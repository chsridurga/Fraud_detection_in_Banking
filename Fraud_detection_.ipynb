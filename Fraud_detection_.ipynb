{
  "nbformat": 4,
  "nbformat_minor": 0,
  "metadata": {
    "colab": {
      "provenance": [],
      "gpuType": "T4"
    },
    "kernelspec": {
      "name": "python3",
      "display_name": "Python 3"
    },
    "language_info": {
      "name": "python"
    },
    "accelerator": "GPU"
  },
  "cells": [
    {
      "cell_type": "code",
      "execution_count": 1,
      "metadata": {
        "id": "9KdUPKOB4LhE"
      },
      "outputs": [],
      "source": [
        "import pandas as pd\n",
        "import numpy as np\n",
        "import seaborn as sns\n",
        "import matplotlib.pyplot as plt\n",
        "import pickle"
      ]
    },
    {
      "cell_type": "code",
      "source": [
        "data = pd.read_csv(\"/content/fraud detection.csv\")\n",
        "df=pd.DataFrame(data)"
      ],
      "metadata": {
        "id": "fnRbZt7S5Y0Q"
      },
      "execution_count": 3,
      "outputs": []
    },
    {
      "cell_type": "code",
      "source": [
        "df.head()"
      ],
      "metadata": {
        "colab": {
          "base_uri": "https://localhost:8080/",
          "height": 206
        },
        "id": "z6MjRf4W5pXm",
        "outputId": "571cdf8c-7409-42b8-9f02-4cdee7f28736"
      },
      "execution_count": 4,
      "outputs": [
        {
          "output_type": "execute_result",
          "data": {
            "text/plain": [
              "   ID  step      type       amount     nameOrig  oldbalanceOrg  \\\n",
              "0   1   487  TRANSFER    321307.31   C509024717      321307.31   \n",
              "1   2   160  TRANSFER  10000000.00   C752627210    27670038.08   \n",
              "2   3    40  CASH_OUT     94684.22   C999271610           0.00   \n",
              "3   4   139  CASH_OUT     61572.27  C2098314951      416524.00   \n",
              "4   5   526  TRANSFER    682901.78    C50452950           0.00   \n",
              "\n",
              "   newbalanceOrig     nameDest  oldbalanceDest  newbalanceDest  isFraud  \n",
              "0            0.00   C136074678            0.00            0.00        1  \n",
              "1     17670038.08  C1853789265            0.00            0.00        1  \n",
              "2            0.00   C269348569       100443.55       195127.77        0  \n",
              "3       354951.73  C1093723175       126019.53       187591.80        0  \n",
              "4            0.00  C2102114319       748928.26      1431830.04        0  "
            ],
            "text/html": [
              "\n",
              "  <div id=\"df-1668deb3-244d-43c4-94bc-c20d63daf7be\" class=\"colab-df-container\">\n",
              "    <div>\n",
              "<style scoped>\n",
              "    .dataframe tbody tr th:only-of-type {\n",
              "        vertical-align: middle;\n",
              "    }\n",
              "\n",
              "    .dataframe tbody tr th {\n",
              "        vertical-align: top;\n",
              "    }\n",
              "\n",
              "    .dataframe thead th {\n",
              "        text-align: right;\n",
              "    }\n",
              "</style>\n",
              "<table border=\"1\" class=\"dataframe\">\n",
              "  <thead>\n",
              "    <tr style=\"text-align: right;\">\n",
              "      <th></th>\n",
              "      <th>ID</th>\n",
              "      <th>step</th>\n",
              "      <th>type</th>\n",
              "      <th>amount</th>\n",
              "      <th>nameOrig</th>\n",
              "      <th>oldbalanceOrg</th>\n",
              "      <th>newbalanceOrig</th>\n",
              "      <th>nameDest</th>\n",
              "      <th>oldbalanceDest</th>\n",
              "      <th>newbalanceDest</th>\n",
              "      <th>isFraud</th>\n",
              "    </tr>\n",
              "  </thead>\n",
              "  <tbody>\n",
              "    <tr>\n",
              "      <th>0</th>\n",
              "      <td>1</td>\n",
              "      <td>487</td>\n",
              "      <td>TRANSFER</td>\n",
              "      <td>321307.31</td>\n",
              "      <td>C509024717</td>\n",
              "      <td>321307.31</td>\n",
              "      <td>0.00</td>\n",
              "      <td>C136074678</td>\n",
              "      <td>0.00</td>\n",
              "      <td>0.00</td>\n",
              "      <td>1</td>\n",
              "    </tr>\n",
              "    <tr>\n",
              "      <th>1</th>\n",
              "      <td>2</td>\n",
              "      <td>160</td>\n",
              "      <td>TRANSFER</td>\n",
              "      <td>10000000.00</td>\n",
              "      <td>C752627210</td>\n",
              "      <td>27670038.08</td>\n",
              "      <td>17670038.08</td>\n",
              "      <td>C1853789265</td>\n",
              "      <td>0.00</td>\n",
              "      <td>0.00</td>\n",
              "      <td>1</td>\n",
              "    </tr>\n",
              "    <tr>\n",
              "      <th>2</th>\n",
              "      <td>3</td>\n",
              "      <td>40</td>\n",
              "      <td>CASH_OUT</td>\n",
              "      <td>94684.22</td>\n",
              "      <td>C999271610</td>\n",
              "      <td>0.00</td>\n",
              "      <td>0.00</td>\n",
              "      <td>C269348569</td>\n",
              "      <td>100443.55</td>\n",
              "      <td>195127.77</td>\n",
              "      <td>0</td>\n",
              "    </tr>\n",
              "    <tr>\n",
              "      <th>3</th>\n",
              "      <td>4</td>\n",
              "      <td>139</td>\n",
              "      <td>CASH_OUT</td>\n",
              "      <td>61572.27</td>\n",
              "      <td>C2098314951</td>\n",
              "      <td>416524.00</td>\n",
              "      <td>354951.73</td>\n",
              "      <td>C1093723175</td>\n",
              "      <td>126019.53</td>\n",
              "      <td>187591.80</td>\n",
              "      <td>0</td>\n",
              "    </tr>\n",
              "    <tr>\n",
              "      <th>4</th>\n",
              "      <td>5</td>\n",
              "      <td>526</td>\n",
              "      <td>TRANSFER</td>\n",
              "      <td>682901.78</td>\n",
              "      <td>C50452950</td>\n",
              "      <td>0.00</td>\n",
              "      <td>0.00</td>\n",
              "      <td>C2102114319</td>\n",
              "      <td>748928.26</td>\n",
              "      <td>1431830.04</td>\n",
              "      <td>0</td>\n",
              "    </tr>\n",
              "  </tbody>\n",
              "</table>\n",
              "</div>\n",
              "    <div class=\"colab-df-buttons\">\n",
              "\n",
              "  <div class=\"colab-df-container\">\n",
              "    <button class=\"colab-df-convert\" onclick=\"convertToInteractive('df-1668deb3-244d-43c4-94bc-c20d63daf7be')\"\n",
              "            title=\"Convert this dataframe to an interactive table.\"\n",
              "            style=\"display:none;\">\n",
              "\n",
              "  <svg xmlns=\"http://www.w3.org/2000/svg\" height=\"24px\" viewBox=\"0 -960 960 960\">\n",
              "    <path d=\"M120-120v-720h720v720H120Zm60-500h600v-160H180v160Zm220 220h160v-160H400v160Zm0 220h160v-160H400v160ZM180-400h160v-160H180v160Zm440 0h160v-160H620v160ZM180-180h160v-160H180v160Zm440 0h160v-160H620v160Z\"/>\n",
              "  </svg>\n",
              "    </button>\n",
              "\n",
              "  <style>\n",
              "    .colab-df-container {\n",
              "      display:flex;\n",
              "      gap: 12px;\n",
              "    }\n",
              "\n",
              "    .colab-df-convert {\n",
              "      background-color: #E8F0FE;\n",
              "      border: none;\n",
              "      border-radius: 50%;\n",
              "      cursor: pointer;\n",
              "      display: none;\n",
              "      fill: #1967D2;\n",
              "      height: 32px;\n",
              "      padding: 0 0 0 0;\n",
              "      width: 32px;\n",
              "    }\n",
              "\n",
              "    .colab-df-convert:hover {\n",
              "      background-color: #E2EBFA;\n",
              "      box-shadow: 0px 1px 2px rgba(60, 64, 67, 0.3), 0px 1px 3px 1px rgba(60, 64, 67, 0.15);\n",
              "      fill: #174EA6;\n",
              "    }\n",
              "\n",
              "    .colab-df-buttons div {\n",
              "      margin-bottom: 4px;\n",
              "    }\n",
              "\n",
              "    [theme=dark] .colab-df-convert {\n",
              "      background-color: #3B4455;\n",
              "      fill: #D2E3FC;\n",
              "    }\n",
              "\n",
              "    [theme=dark] .colab-df-convert:hover {\n",
              "      background-color: #434B5C;\n",
              "      box-shadow: 0px 1px 3px 1px rgba(0, 0, 0, 0.15);\n",
              "      filter: drop-shadow(0px 1px 2px rgba(0, 0, 0, 0.3));\n",
              "      fill: #FFFFFF;\n",
              "    }\n",
              "  </style>\n",
              "\n",
              "    <script>\n",
              "      const buttonEl =\n",
              "        document.querySelector('#df-1668deb3-244d-43c4-94bc-c20d63daf7be button.colab-df-convert');\n",
              "      buttonEl.style.display =\n",
              "        google.colab.kernel.accessAllowed ? 'block' : 'none';\n",
              "\n",
              "      async function convertToInteractive(key) {\n",
              "        const element = document.querySelector('#df-1668deb3-244d-43c4-94bc-c20d63daf7be');\n",
              "        const dataTable =\n",
              "          await google.colab.kernel.invokeFunction('convertToInteractive',\n",
              "                                                    [key], {});\n",
              "        if (!dataTable) return;\n",
              "\n",
              "        const docLinkHtml = 'Like what you see? Visit the ' +\n",
              "          '<a target=\"_blank\" href=https://colab.research.google.com/notebooks/data_table.ipynb>data table notebook</a>'\n",
              "          + ' to learn more about interactive tables.';\n",
              "        element.innerHTML = '';\n",
              "        dataTable['output_type'] = 'display_data';\n",
              "        await google.colab.output.renderOutput(dataTable, element);\n",
              "        const docLink = document.createElement('div');\n",
              "        docLink.innerHTML = docLinkHtml;\n",
              "        element.appendChild(docLink);\n",
              "      }\n",
              "    </script>\n",
              "  </div>\n",
              "\n",
              "\n",
              "<div id=\"df-b1015af3-de23-49e3-8b7a-ed92c65f149f\">\n",
              "  <button class=\"colab-df-quickchart\" onclick=\"quickchart('df-b1015af3-de23-49e3-8b7a-ed92c65f149f')\"\n",
              "            title=\"Suggest charts\"\n",
              "            style=\"display:none;\">\n",
              "\n",
              "<svg xmlns=\"http://www.w3.org/2000/svg\" height=\"24px\"viewBox=\"0 0 24 24\"\n",
              "     width=\"24px\">\n",
              "    <g>\n",
              "        <path d=\"M19 3H5c-1.1 0-2 .9-2 2v14c0 1.1.9 2 2 2h14c1.1 0 2-.9 2-2V5c0-1.1-.9-2-2-2zM9 17H7v-7h2v7zm4 0h-2V7h2v10zm4 0h-2v-4h2v4z\"/>\n",
              "    </g>\n",
              "</svg>\n",
              "  </button>\n",
              "\n",
              "<style>\n",
              "  .colab-df-quickchart {\n",
              "      --bg-color: #E8F0FE;\n",
              "      --fill-color: #1967D2;\n",
              "      --hover-bg-color: #E2EBFA;\n",
              "      --hover-fill-color: #174EA6;\n",
              "      --disabled-fill-color: #AAA;\n",
              "      --disabled-bg-color: #DDD;\n",
              "  }\n",
              "\n",
              "  [theme=dark] .colab-df-quickchart {\n",
              "      --bg-color: #3B4455;\n",
              "      --fill-color: #D2E3FC;\n",
              "      --hover-bg-color: #434B5C;\n",
              "      --hover-fill-color: #FFFFFF;\n",
              "      --disabled-bg-color: #3B4455;\n",
              "      --disabled-fill-color: #666;\n",
              "  }\n",
              "\n",
              "  .colab-df-quickchart {\n",
              "    background-color: var(--bg-color);\n",
              "    border: none;\n",
              "    border-radius: 50%;\n",
              "    cursor: pointer;\n",
              "    display: none;\n",
              "    fill: var(--fill-color);\n",
              "    height: 32px;\n",
              "    padding: 0;\n",
              "    width: 32px;\n",
              "  }\n",
              "\n",
              "  .colab-df-quickchart:hover {\n",
              "    background-color: var(--hover-bg-color);\n",
              "    box-shadow: 0 1px 2px rgba(60, 64, 67, 0.3), 0 1px 3px 1px rgba(60, 64, 67, 0.15);\n",
              "    fill: var(--button-hover-fill-color);\n",
              "  }\n",
              "\n",
              "  .colab-df-quickchart-complete:disabled,\n",
              "  .colab-df-quickchart-complete:disabled:hover {\n",
              "    background-color: var(--disabled-bg-color);\n",
              "    fill: var(--disabled-fill-color);\n",
              "    box-shadow: none;\n",
              "  }\n",
              "\n",
              "  .colab-df-spinner {\n",
              "    border: 2px solid var(--fill-color);\n",
              "    border-color: transparent;\n",
              "    border-bottom-color: var(--fill-color);\n",
              "    animation:\n",
              "      spin 1s steps(1) infinite;\n",
              "  }\n",
              "\n",
              "  @keyframes spin {\n",
              "    0% {\n",
              "      border-color: transparent;\n",
              "      border-bottom-color: var(--fill-color);\n",
              "      border-left-color: var(--fill-color);\n",
              "    }\n",
              "    20% {\n",
              "      border-color: transparent;\n",
              "      border-left-color: var(--fill-color);\n",
              "      border-top-color: var(--fill-color);\n",
              "    }\n",
              "    30% {\n",
              "      border-color: transparent;\n",
              "      border-left-color: var(--fill-color);\n",
              "      border-top-color: var(--fill-color);\n",
              "      border-right-color: var(--fill-color);\n",
              "    }\n",
              "    40% {\n",
              "      border-color: transparent;\n",
              "      border-right-color: var(--fill-color);\n",
              "      border-top-color: var(--fill-color);\n",
              "    }\n",
              "    60% {\n",
              "      border-color: transparent;\n",
              "      border-right-color: var(--fill-color);\n",
              "    }\n",
              "    80% {\n",
              "      border-color: transparent;\n",
              "      border-right-color: var(--fill-color);\n",
              "      border-bottom-color: var(--fill-color);\n",
              "    }\n",
              "    90% {\n",
              "      border-color: transparent;\n",
              "      border-bottom-color: var(--fill-color);\n",
              "    }\n",
              "  }\n",
              "</style>\n",
              "\n",
              "  <script>\n",
              "    async function quickchart(key) {\n",
              "      const quickchartButtonEl =\n",
              "        document.querySelector('#' + key + ' button');\n",
              "      quickchartButtonEl.disabled = true;  // To prevent multiple clicks.\n",
              "      quickchartButtonEl.classList.add('colab-df-spinner');\n",
              "      try {\n",
              "        const charts = await google.colab.kernel.invokeFunction(\n",
              "            'suggestCharts', [key], {});\n",
              "      } catch (error) {\n",
              "        console.error('Error during call to suggestCharts:', error);\n",
              "      }\n",
              "      quickchartButtonEl.classList.remove('colab-df-spinner');\n",
              "      quickchartButtonEl.classList.add('colab-df-quickchart-complete');\n",
              "    }\n",
              "    (() => {\n",
              "      let quickchartButtonEl =\n",
              "        document.querySelector('#df-b1015af3-de23-49e3-8b7a-ed92c65f149f button');\n",
              "      quickchartButtonEl.style.display =\n",
              "        google.colab.kernel.accessAllowed ? 'block' : 'none';\n",
              "    })();\n",
              "  </script>\n",
              "</div>\n",
              "\n",
              "    </div>\n",
              "  </div>\n"
            ],
            "application/vnd.google.colaboratory.intrinsic+json": {
              "type": "dataframe",
              "variable_name": "df",
              "summary": "{\n  \"name\": \"df\",\n  \"rows\": 18213,\n  \"fields\": [\n    {\n      \"column\": \"ID\",\n      \"properties\": {\n        \"dtype\": \"number\",\n        \"std\": 5257,\n        \"min\": 1,\n        \"max\": 18213,\n        \"num_unique_values\": 18213,\n        \"samples\": [\n          15418,\n          11817,\n          9401\n        ],\n        \"semantic_type\": \"\",\n        \"description\": \"\"\n      }\n    },\n    {\n      \"column\": \"step\",\n      \"properties\": {\n        \"dtype\": \"number\",\n        \"std\": 190,\n        \"min\": 1,\n        \"max\": 743,\n        \"num_unique_values\": 743,\n        \"samples\": [\n          569,\n          444,\n          412\n        ],\n        \"semantic_type\": \"\",\n        \"description\": \"\"\n      }\n    },\n    {\n      \"column\": \"type\",\n      \"properties\": {\n        \"dtype\": \"category\",\n        \"num_unique_values\": 5,\n        \"samples\": [\n          \"CASH_OUT\",\n          \"DEBIT\",\n          \"CASH_IN\"\n        ],\n        \"semantic_type\": \"\",\n        \"description\": \"\"\n      }\n    },\n    {\n      \"column\": \"amount\",\n      \"properties\": {\n        \"dtype\": \"number\",\n        \"std\": 1824941.4137661727,\n        \"min\": 0.0,\n        \"max\": 51990860.85,\n        \"num_unique_values\": 13963,\n        \"samples\": [\n          18755.75,\n          2100951.58,\n          664992.86\n        ],\n        \"semantic_type\": \"\",\n        \"description\": \"\"\n      }\n    },\n    {\n      \"column\": \"nameOrig\",\n      \"properties\": {\n        \"dtype\": \"string\",\n        \"num_unique_values\": 18213,\n        \"samples\": [\n          \"C761504463\",\n          \"C518343264\",\n          \"C297524022\"\n        ],\n        \"semantic_type\": \"\",\n        \"description\": \"\"\n      }\n    },\n    {\n      \"column\": \"oldbalanceOrg\",\n      \"properties\": {\n        \"dtype\": \"number\",\n        \"std\": 3222080.5312137646,\n        \"min\": 0.0,\n        \"max\": 59585040.37,\n        \"num_unique_values\": 10556,\n        \"samples\": [\n          1165171.47,\n          291305.98,\n          97698.0\n        ],\n        \"semantic_type\": \"\",\n        \"description\": \"\"\n      }\n    },\n    {\n      \"column\": \"newbalanceOrig\",\n      \"properties\": {\n        \"dtype\": \"number\",\n        \"std\": 2551140.262119838,\n        \"min\": 0.0,\n        \"max\": 49585040.37,\n        \"num_unique_values\": 4459,\n        \"samples\": [\n          2366016.86,\n          172797.84,\n          208285.21\n        ],\n        \"semantic_type\": \"\",\n        \"description\": \"\"\n      }\n    },\n    {\n      \"column\": \"nameDest\",\n      \"properties\": {\n        \"dtype\": \"string\",\n        \"num_unique_values\": 18000,\n        \"samples\": [\n          \"C1083224604\",\n          \"M1760197295\",\n          \"C2041003614\"\n        ],\n        \"semantic_type\": \"\",\n        \"description\": \"\"\n      }\n    },\n    {\n      \"column\": \"oldbalanceDest\",\n      \"properties\": {\n        \"dtype\": \"number\",\n        \"std\": 3286398.2202927135,\n        \"min\": 0.0,\n        \"max\": 236230516.8,\n        \"num_unique_values\": 8602,\n        \"samples\": [\n          452522.49,\n          9511.67,\n          3240069.43\n        ],\n        \"semantic_type\": \"\",\n        \"description\": \"\"\n      }\n    },\n    {\n      \"column\": \"newbalanceDest\",\n      \"properties\": {\n        \"dtype\": \"number\",\n        \"std\": 3738407.5309491972,\n        \"min\": 0.0,\n        \"max\": 236726494.7,\n        \"num_unique_values\": 10261,\n        \"samples\": [\n          1168884.19,\n          433962.91,\n          37041353.09\n        ],\n        \"semantic_type\": \"\",\n        \"description\": \"\"\n      }\n    },\n    {\n      \"column\": \"isFraud\",\n      \"properties\": {\n        \"dtype\": \"number\",\n        \"std\": 0,\n        \"min\": 0,\n        \"max\": 1,\n        \"num_unique_values\": 2,\n        \"samples\": [\n          0,\n          1\n        ],\n        \"semantic_type\": \"\",\n        \"description\": \"\"\n      }\n    }\n  ]\n}"
            }
          },
          "metadata": {},
          "execution_count": 4
        }
      ]
    },
    {
      "cell_type": "code",
      "source": [
        "data.head(10)"
      ],
      "metadata": {
        "colab": {
          "base_uri": "https://localhost:8080/",
          "height": 363
        },
        "id": "lDBqxdky7pzx",
        "outputId": "22ccb59c-7707-4857-b129-ea5794795505"
      },
      "execution_count": 5,
      "outputs": [
        {
          "output_type": "execute_result",
          "data": {
            "text/plain": [
              "   ID  step      type       amount     nameOrig  oldbalanceOrg  \\\n",
              "0   1   487  TRANSFER    321307.31   C509024717      321307.31   \n",
              "1   2   160  TRANSFER  10000000.00   C752627210    27670038.08   \n",
              "2   3    40  CASH_OUT     94684.22   C999271610           0.00   \n",
              "3   4   139  CASH_OUT     61572.27  C2098314951      416524.00   \n",
              "4   5   526  TRANSFER    682901.78    C50452950           0.00   \n",
              "5   6   187  TRANSFER    142740.15  C1405714095           0.00   \n",
              "6   7   398  TRANSFER   4309298.47   C668700925     4309298.47   \n",
              "7   8   306   CASH_IN    147790.37   C128950954      499682.00   \n",
              "8   9   204  CASH_OUT    170956.09  C1917381506           0.00   \n",
              "9  10   163  CASH_OUT     28810.69   C204552268       49544.00   \n",
              "\n",
              "   newbalanceOrig     nameDest  oldbalanceDest  newbalanceDest  isFraud  \n",
              "0            0.00   C136074678            0.00            0.00        1  \n",
              "1     17670038.08  C1853789265            0.00            0.00        1  \n",
              "2            0.00   C269348569       100443.55       195127.77        0  \n",
              "3       354951.73  C1093723175       126019.53       187591.80        0  \n",
              "4            0.00  C2102114319       748928.26      1431830.04        0  \n",
              "5            0.00  C1378055562       246634.60       389374.75        0  \n",
              "6            0.00  C1360905880            0.00            0.00        1  \n",
              "7       647472.37  C1911802090      3564911.28      3417120.91        0  \n",
              "8            0.00   C538563383      1038699.65      1209655.74        0  \n",
              "9        20733.31   C406232323        73381.08       102191.77        0  "
            ],
            "text/html": [
              "\n",
              "  <div id=\"df-4a3959b6-1075-475a-b632-5fbbf4ba9d0b\" class=\"colab-df-container\">\n",
              "    <div>\n",
              "<style scoped>\n",
              "    .dataframe tbody tr th:only-of-type {\n",
              "        vertical-align: middle;\n",
              "    }\n",
              "\n",
              "    .dataframe tbody tr th {\n",
              "        vertical-align: top;\n",
              "    }\n",
              "\n",
              "    .dataframe thead th {\n",
              "        text-align: right;\n",
              "    }\n",
              "</style>\n",
              "<table border=\"1\" class=\"dataframe\">\n",
              "  <thead>\n",
              "    <tr style=\"text-align: right;\">\n",
              "      <th></th>\n",
              "      <th>ID</th>\n",
              "      <th>step</th>\n",
              "      <th>type</th>\n",
              "      <th>amount</th>\n",
              "      <th>nameOrig</th>\n",
              "      <th>oldbalanceOrg</th>\n",
              "      <th>newbalanceOrig</th>\n",
              "      <th>nameDest</th>\n",
              "      <th>oldbalanceDest</th>\n",
              "      <th>newbalanceDest</th>\n",
              "      <th>isFraud</th>\n",
              "    </tr>\n",
              "  </thead>\n",
              "  <tbody>\n",
              "    <tr>\n",
              "      <th>0</th>\n",
              "      <td>1</td>\n",
              "      <td>487</td>\n",
              "      <td>TRANSFER</td>\n",
              "      <td>321307.31</td>\n",
              "      <td>C509024717</td>\n",
              "      <td>321307.31</td>\n",
              "      <td>0.00</td>\n",
              "      <td>C136074678</td>\n",
              "      <td>0.00</td>\n",
              "      <td>0.00</td>\n",
              "      <td>1</td>\n",
              "    </tr>\n",
              "    <tr>\n",
              "      <th>1</th>\n",
              "      <td>2</td>\n",
              "      <td>160</td>\n",
              "      <td>TRANSFER</td>\n",
              "      <td>10000000.00</td>\n",
              "      <td>C752627210</td>\n",
              "      <td>27670038.08</td>\n",
              "      <td>17670038.08</td>\n",
              "      <td>C1853789265</td>\n",
              "      <td>0.00</td>\n",
              "      <td>0.00</td>\n",
              "      <td>1</td>\n",
              "    </tr>\n",
              "    <tr>\n",
              "      <th>2</th>\n",
              "      <td>3</td>\n",
              "      <td>40</td>\n",
              "      <td>CASH_OUT</td>\n",
              "      <td>94684.22</td>\n",
              "      <td>C999271610</td>\n",
              "      <td>0.00</td>\n",
              "      <td>0.00</td>\n",
              "      <td>C269348569</td>\n",
              "      <td>100443.55</td>\n",
              "      <td>195127.77</td>\n",
              "      <td>0</td>\n",
              "    </tr>\n",
              "    <tr>\n",
              "      <th>3</th>\n",
              "      <td>4</td>\n",
              "      <td>139</td>\n",
              "      <td>CASH_OUT</td>\n",
              "      <td>61572.27</td>\n",
              "      <td>C2098314951</td>\n",
              "      <td>416524.00</td>\n",
              "      <td>354951.73</td>\n",
              "      <td>C1093723175</td>\n",
              "      <td>126019.53</td>\n",
              "      <td>187591.80</td>\n",
              "      <td>0</td>\n",
              "    </tr>\n",
              "    <tr>\n",
              "      <th>4</th>\n",
              "      <td>5</td>\n",
              "      <td>526</td>\n",
              "      <td>TRANSFER</td>\n",
              "      <td>682901.78</td>\n",
              "      <td>C50452950</td>\n",
              "      <td>0.00</td>\n",
              "      <td>0.00</td>\n",
              "      <td>C2102114319</td>\n",
              "      <td>748928.26</td>\n",
              "      <td>1431830.04</td>\n",
              "      <td>0</td>\n",
              "    </tr>\n",
              "    <tr>\n",
              "      <th>5</th>\n",
              "      <td>6</td>\n",
              "      <td>187</td>\n",
              "      <td>TRANSFER</td>\n",
              "      <td>142740.15</td>\n",
              "      <td>C1405714095</td>\n",
              "      <td>0.00</td>\n",
              "      <td>0.00</td>\n",
              "      <td>C1378055562</td>\n",
              "      <td>246634.60</td>\n",
              "      <td>389374.75</td>\n",
              "      <td>0</td>\n",
              "    </tr>\n",
              "    <tr>\n",
              "      <th>6</th>\n",
              "      <td>7</td>\n",
              "      <td>398</td>\n",
              "      <td>TRANSFER</td>\n",
              "      <td>4309298.47</td>\n",
              "      <td>C668700925</td>\n",
              "      <td>4309298.47</td>\n",
              "      <td>0.00</td>\n",
              "      <td>C1360905880</td>\n",
              "      <td>0.00</td>\n",
              "      <td>0.00</td>\n",
              "      <td>1</td>\n",
              "    </tr>\n",
              "    <tr>\n",
              "      <th>7</th>\n",
              "      <td>8</td>\n",
              "      <td>306</td>\n",
              "      <td>CASH_IN</td>\n",
              "      <td>147790.37</td>\n",
              "      <td>C128950954</td>\n",
              "      <td>499682.00</td>\n",
              "      <td>647472.37</td>\n",
              "      <td>C1911802090</td>\n",
              "      <td>3564911.28</td>\n",
              "      <td>3417120.91</td>\n",
              "      <td>0</td>\n",
              "    </tr>\n",
              "    <tr>\n",
              "      <th>8</th>\n",
              "      <td>9</td>\n",
              "      <td>204</td>\n",
              "      <td>CASH_OUT</td>\n",
              "      <td>170956.09</td>\n",
              "      <td>C1917381506</td>\n",
              "      <td>0.00</td>\n",
              "      <td>0.00</td>\n",
              "      <td>C538563383</td>\n",
              "      <td>1038699.65</td>\n",
              "      <td>1209655.74</td>\n",
              "      <td>0</td>\n",
              "    </tr>\n",
              "    <tr>\n",
              "      <th>9</th>\n",
              "      <td>10</td>\n",
              "      <td>163</td>\n",
              "      <td>CASH_OUT</td>\n",
              "      <td>28810.69</td>\n",
              "      <td>C204552268</td>\n",
              "      <td>49544.00</td>\n",
              "      <td>20733.31</td>\n",
              "      <td>C406232323</td>\n",
              "      <td>73381.08</td>\n",
              "      <td>102191.77</td>\n",
              "      <td>0</td>\n",
              "    </tr>\n",
              "  </tbody>\n",
              "</table>\n",
              "</div>\n",
              "    <div class=\"colab-df-buttons\">\n",
              "\n",
              "  <div class=\"colab-df-container\">\n",
              "    <button class=\"colab-df-convert\" onclick=\"convertToInteractive('df-4a3959b6-1075-475a-b632-5fbbf4ba9d0b')\"\n",
              "            title=\"Convert this dataframe to an interactive table.\"\n",
              "            style=\"display:none;\">\n",
              "\n",
              "  <svg xmlns=\"http://www.w3.org/2000/svg\" height=\"24px\" viewBox=\"0 -960 960 960\">\n",
              "    <path d=\"M120-120v-720h720v720H120Zm60-500h600v-160H180v160Zm220 220h160v-160H400v160Zm0 220h160v-160H400v160ZM180-400h160v-160H180v160Zm440 0h160v-160H620v160ZM180-180h160v-160H180v160Zm440 0h160v-160H620v160Z\"/>\n",
              "  </svg>\n",
              "    </button>\n",
              "\n",
              "  <style>\n",
              "    .colab-df-container {\n",
              "      display:flex;\n",
              "      gap: 12px;\n",
              "    }\n",
              "\n",
              "    .colab-df-convert {\n",
              "      background-color: #E8F0FE;\n",
              "      border: none;\n",
              "      border-radius: 50%;\n",
              "      cursor: pointer;\n",
              "      display: none;\n",
              "      fill: #1967D2;\n",
              "      height: 32px;\n",
              "      padding: 0 0 0 0;\n",
              "      width: 32px;\n",
              "    }\n",
              "\n",
              "    .colab-df-convert:hover {\n",
              "      background-color: #E2EBFA;\n",
              "      box-shadow: 0px 1px 2px rgba(60, 64, 67, 0.3), 0px 1px 3px 1px rgba(60, 64, 67, 0.15);\n",
              "      fill: #174EA6;\n",
              "    }\n",
              "\n",
              "    .colab-df-buttons div {\n",
              "      margin-bottom: 4px;\n",
              "    }\n",
              "\n",
              "    [theme=dark] .colab-df-convert {\n",
              "      background-color: #3B4455;\n",
              "      fill: #D2E3FC;\n",
              "    }\n",
              "\n",
              "    [theme=dark] .colab-df-convert:hover {\n",
              "      background-color: #434B5C;\n",
              "      box-shadow: 0px 1px 3px 1px rgba(0, 0, 0, 0.15);\n",
              "      filter: drop-shadow(0px 1px 2px rgba(0, 0, 0, 0.3));\n",
              "      fill: #FFFFFF;\n",
              "    }\n",
              "  </style>\n",
              "\n",
              "    <script>\n",
              "      const buttonEl =\n",
              "        document.querySelector('#df-4a3959b6-1075-475a-b632-5fbbf4ba9d0b button.colab-df-convert');\n",
              "      buttonEl.style.display =\n",
              "        google.colab.kernel.accessAllowed ? 'block' : 'none';\n",
              "\n",
              "      async function convertToInteractive(key) {\n",
              "        const element = document.querySelector('#df-4a3959b6-1075-475a-b632-5fbbf4ba9d0b');\n",
              "        const dataTable =\n",
              "          await google.colab.kernel.invokeFunction('convertToInteractive',\n",
              "                                                    [key], {});\n",
              "        if (!dataTable) return;\n",
              "\n",
              "        const docLinkHtml = 'Like what you see? Visit the ' +\n",
              "          '<a target=\"_blank\" href=https://colab.research.google.com/notebooks/data_table.ipynb>data table notebook</a>'\n",
              "          + ' to learn more about interactive tables.';\n",
              "        element.innerHTML = '';\n",
              "        dataTable['output_type'] = 'display_data';\n",
              "        await google.colab.output.renderOutput(dataTable, element);\n",
              "        const docLink = document.createElement('div');\n",
              "        docLink.innerHTML = docLinkHtml;\n",
              "        element.appendChild(docLink);\n",
              "      }\n",
              "    </script>\n",
              "  </div>\n",
              "\n",
              "\n",
              "<div id=\"df-72e178a8-6556-41b4-b8fa-8ae0b4e88cb2\">\n",
              "  <button class=\"colab-df-quickchart\" onclick=\"quickchart('df-72e178a8-6556-41b4-b8fa-8ae0b4e88cb2')\"\n",
              "            title=\"Suggest charts\"\n",
              "            style=\"display:none;\">\n",
              "\n",
              "<svg xmlns=\"http://www.w3.org/2000/svg\" height=\"24px\"viewBox=\"0 0 24 24\"\n",
              "     width=\"24px\">\n",
              "    <g>\n",
              "        <path d=\"M19 3H5c-1.1 0-2 .9-2 2v14c0 1.1.9 2 2 2h14c1.1 0 2-.9 2-2V5c0-1.1-.9-2-2-2zM9 17H7v-7h2v7zm4 0h-2V7h2v10zm4 0h-2v-4h2v4z\"/>\n",
              "    </g>\n",
              "</svg>\n",
              "  </button>\n",
              "\n",
              "<style>\n",
              "  .colab-df-quickchart {\n",
              "      --bg-color: #E8F0FE;\n",
              "      --fill-color: #1967D2;\n",
              "      --hover-bg-color: #E2EBFA;\n",
              "      --hover-fill-color: #174EA6;\n",
              "      --disabled-fill-color: #AAA;\n",
              "      --disabled-bg-color: #DDD;\n",
              "  }\n",
              "\n",
              "  [theme=dark] .colab-df-quickchart {\n",
              "      --bg-color: #3B4455;\n",
              "      --fill-color: #D2E3FC;\n",
              "      --hover-bg-color: #434B5C;\n",
              "      --hover-fill-color: #FFFFFF;\n",
              "      --disabled-bg-color: #3B4455;\n",
              "      --disabled-fill-color: #666;\n",
              "  }\n",
              "\n",
              "  .colab-df-quickchart {\n",
              "    background-color: var(--bg-color);\n",
              "    border: none;\n",
              "    border-radius: 50%;\n",
              "    cursor: pointer;\n",
              "    display: none;\n",
              "    fill: var(--fill-color);\n",
              "    height: 32px;\n",
              "    padding: 0;\n",
              "    width: 32px;\n",
              "  }\n",
              "\n",
              "  .colab-df-quickchart:hover {\n",
              "    background-color: var(--hover-bg-color);\n",
              "    box-shadow: 0 1px 2px rgba(60, 64, 67, 0.3), 0 1px 3px 1px rgba(60, 64, 67, 0.15);\n",
              "    fill: var(--button-hover-fill-color);\n",
              "  }\n",
              "\n",
              "  .colab-df-quickchart-complete:disabled,\n",
              "  .colab-df-quickchart-complete:disabled:hover {\n",
              "    background-color: var(--disabled-bg-color);\n",
              "    fill: var(--disabled-fill-color);\n",
              "    box-shadow: none;\n",
              "  }\n",
              "\n",
              "  .colab-df-spinner {\n",
              "    border: 2px solid var(--fill-color);\n",
              "    border-color: transparent;\n",
              "    border-bottom-color: var(--fill-color);\n",
              "    animation:\n",
              "      spin 1s steps(1) infinite;\n",
              "  }\n",
              "\n",
              "  @keyframes spin {\n",
              "    0% {\n",
              "      border-color: transparent;\n",
              "      border-bottom-color: var(--fill-color);\n",
              "      border-left-color: var(--fill-color);\n",
              "    }\n",
              "    20% {\n",
              "      border-color: transparent;\n",
              "      border-left-color: var(--fill-color);\n",
              "      border-top-color: var(--fill-color);\n",
              "    }\n",
              "    30% {\n",
              "      border-color: transparent;\n",
              "      border-left-color: var(--fill-color);\n",
              "      border-top-color: var(--fill-color);\n",
              "      border-right-color: var(--fill-color);\n",
              "    }\n",
              "    40% {\n",
              "      border-color: transparent;\n",
              "      border-right-color: var(--fill-color);\n",
              "      border-top-color: var(--fill-color);\n",
              "    }\n",
              "    60% {\n",
              "      border-color: transparent;\n",
              "      border-right-color: var(--fill-color);\n",
              "    }\n",
              "    80% {\n",
              "      border-color: transparent;\n",
              "      border-right-color: var(--fill-color);\n",
              "      border-bottom-color: var(--fill-color);\n",
              "    }\n",
              "    90% {\n",
              "      border-color: transparent;\n",
              "      border-bottom-color: var(--fill-color);\n",
              "    }\n",
              "  }\n",
              "</style>\n",
              "\n",
              "  <script>\n",
              "    async function quickchart(key) {\n",
              "      const quickchartButtonEl =\n",
              "        document.querySelector('#' + key + ' button');\n",
              "      quickchartButtonEl.disabled = true;  // To prevent multiple clicks.\n",
              "      quickchartButtonEl.classList.add('colab-df-spinner');\n",
              "      try {\n",
              "        const charts = await google.colab.kernel.invokeFunction(\n",
              "            'suggestCharts', [key], {});\n",
              "      } catch (error) {\n",
              "        console.error('Error during call to suggestCharts:', error);\n",
              "      }\n",
              "      quickchartButtonEl.classList.remove('colab-df-spinner');\n",
              "      quickchartButtonEl.classList.add('colab-df-quickchart-complete');\n",
              "    }\n",
              "    (() => {\n",
              "      let quickchartButtonEl =\n",
              "        document.querySelector('#df-72e178a8-6556-41b4-b8fa-8ae0b4e88cb2 button');\n",
              "      quickchartButtonEl.style.display =\n",
              "        google.colab.kernel.accessAllowed ? 'block' : 'none';\n",
              "    })();\n",
              "  </script>\n",
              "</div>\n",
              "\n",
              "    </div>\n",
              "  </div>\n"
            ],
            "application/vnd.google.colaboratory.intrinsic+json": {
              "type": "dataframe",
              "variable_name": "data",
              "summary": "{\n  \"name\": \"data\",\n  \"rows\": 18213,\n  \"fields\": [\n    {\n      \"column\": \"ID\",\n      \"properties\": {\n        \"dtype\": \"number\",\n        \"std\": 5257,\n        \"min\": 1,\n        \"max\": 18213,\n        \"num_unique_values\": 18213,\n        \"samples\": [\n          15418,\n          11817,\n          9401\n        ],\n        \"semantic_type\": \"\",\n        \"description\": \"\"\n      }\n    },\n    {\n      \"column\": \"step\",\n      \"properties\": {\n        \"dtype\": \"number\",\n        \"std\": 190,\n        \"min\": 1,\n        \"max\": 743,\n        \"num_unique_values\": 743,\n        \"samples\": [\n          569,\n          444,\n          412\n        ],\n        \"semantic_type\": \"\",\n        \"description\": \"\"\n      }\n    },\n    {\n      \"column\": \"type\",\n      \"properties\": {\n        \"dtype\": \"category\",\n        \"num_unique_values\": 5,\n        \"samples\": [\n          \"CASH_OUT\",\n          \"DEBIT\",\n          \"CASH_IN\"\n        ],\n        \"semantic_type\": \"\",\n        \"description\": \"\"\n      }\n    },\n    {\n      \"column\": \"amount\",\n      \"properties\": {\n        \"dtype\": \"number\",\n        \"std\": 1824941.4137661727,\n        \"min\": 0.0,\n        \"max\": 51990860.85,\n        \"num_unique_values\": 13963,\n        \"samples\": [\n          18755.75,\n          2100951.58,\n          664992.86\n        ],\n        \"semantic_type\": \"\",\n        \"description\": \"\"\n      }\n    },\n    {\n      \"column\": \"nameOrig\",\n      \"properties\": {\n        \"dtype\": \"string\",\n        \"num_unique_values\": 18213,\n        \"samples\": [\n          \"C761504463\",\n          \"C518343264\",\n          \"C297524022\"\n        ],\n        \"semantic_type\": \"\",\n        \"description\": \"\"\n      }\n    },\n    {\n      \"column\": \"oldbalanceOrg\",\n      \"properties\": {\n        \"dtype\": \"number\",\n        \"std\": 3222080.5312137646,\n        \"min\": 0.0,\n        \"max\": 59585040.37,\n        \"num_unique_values\": 10556,\n        \"samples\": [\n          1165171.47,\n          291305.98,\n          97698.0\n        ],\n        \"semantic_type\": \"\",\n        \"description\": \"\"\n      }\n    },\n    {\n      \"column\": \"newbalanceOrig\",\n      \"properties\": {\n        \"dtype\": \"number\",\n        \"std\": 2551140.262119838,\n        \"min\": 0.0,\n        \"max\": 49585040.37,\n        \"num_unique_values\": 4459,\n        \"samples\": [\n          2366016.86,\n          172797.84,\n          208285.21\n        ],\n        \"semantic_type\": \"\",\n        \"description\": \"\"\n      }\n    },\n    {\n      \"column\": \"nameDest\",\n      \"properties\": {\n        \"dtype\": \"string\",\n        \"num_unique_values\": 18000,\n        \"samples\": [\n          \"C1083224604\",\n          \"M1760197295\",\n          \"C2041003614\"\n        ],\n        \"semantic_type\": \"\",\n        \"description\": \"\"\n      }\n    },\n    {\n      \"column\": \"oldbalanceDest\",\n      \"properties\": {\n        \"dtype\": \"number\",\n        \"std\": 3286398.2202927135,\n        \"min\": 0.0,\n        \"max\": 236230516.8,\n        \"num_unique_values\": 8602,\n        \"samples\": [\n          452522.49,\n          9511.67,\n          3240069.43\n        ],\n        \"semantic_type\": \"\",\n        \"description\": \"\"\n      }\n    },\n    {\n      \"column\": \"newbalanceDest\",\n      \"properties\": {\n        \"dtype\": \"number\",\n        \"std\": 3738407.5309491972,\n        \"min\": 0.0,\n        \"max\": 236726494.7,\n        \"num_unique_values\": 10261,\n        \"samples\": [\n          1168884.19,\n          433962.91,\n          37041353.09\n        ],\n        \"semantic_type\": \"\",\n        \"description\": \"\"\n      }\n    },\n    {\n      \"column\": \"isFraud\",\n      \"properties\": {\n        \"dtype\": \"number\",\n        \"std\": 0,\n        \"min\": 0,\n        \"max\": 1,\n        \"num_unique_values\": 2,\n        \"samples\": [\n          0,\n          1\n        ],\n        \"semantic_type\": \"\",\n        \"description\": \"\"\n      }\n    }\n  ]\n}"
            }
          },
          "metadata": {},
          "execution_count": 5
        }
      ]
    },
    {
      "cell_type": "code",
      "source": [
        "df.shape #dimension of data frame"
      ],
      "metadata": {
        "colab": {
          "base_uri": "https://localhost:8080/"
        },
        "id": "vkq6fL0c7wfN",
        "outputId": "d89e84bc-42c6-4239-d1f2-59a507d0184e"
      },
      "execution_count": 6,
      "outputs": [
        {
          "output_type": "execute_result",
          "data": {
            "text/plain": [
              "(18213, 11)"
            ]
          },
          "metadata": {},
          "execution_count": 6
        }
      ]
    },
    {
      "cell_type": "code",
      "source": [
        "df.tail() #printing last 5 rows in dataset"
      ],
      "metadata": {
        "colab": {
          "base_uri": "https://localhost:8080/",
          "height": 206
        },
        "id": "b5sOvgM67zkC",
        "outputId": "eb51342a-1948-4311-a1c6-3064ed4416c9"
      },
      "execution_count": 7,
      "outputs": [
        {
          "output_type": "execute_result",
          "data": {
            "text/plain": [
              "          ID  step      type      amount     nameOrig  oldbalanceOrg  \\\n",
              "18208  18209   108  TRANSFER    99808.45  C1704281751       99808.45   \n",
              "18209  18210   173  TRANSFER   176273.29   C386692409      176273.29   \n",
              "18210  18211   347   PAYMENT     5854.11   C373113411      246233.85   \n",
              "18211  18212   380  CASH_OUT    87317.28   C413020159      140221.23   \n",
              "18212  18213   522  TRANSFER  1752606.15  C1333169684     1752606.15   \n",
              "\n",
              "       newbalanceOrig     nameDest  oldbalanceDest  newbalanceDest  isFraud  \n",
              "18208            0.00   C587386073            0.00            0.00        1  \n",
              "18209            0.00  C1025742188            0.00            0.00        1  \n",
              "18210       240379.74   M312851300            0.00            0.00        0  \n",
              "18211        52903.95   C495945638       164096.85       251414.13        0  \n",
              "18212            0.00   C722968916            0.00            0.00        1  "
            ],
            "text/html": [
              "\n",
              "  <div id=\"df-0d5e5580-03d7-44e2-a750-83764e971cf5\" class=\"colab-df-container\">\n",
              "    <div>\n",
              "<style scoped>\n",
              "    .dataframe tbody tr th:only-of-type {\n",
              "        vertical-align: middle;\n",
              "    }\n",
              "\n",
              "    .dataframe tbody tr th {\n",
              "        vertical-align: top;\n",
              "    }\n",
              "\n",
              "    .dataframe thead th {\n",
              "        text-align: right;\n",
              "    }\n",
              "</style>\n",
              "<table border=\"1\" class=\"dataframe\">\n",
              "  <thead>\n",
              "    <tr style=\"text-align: right;\">\n",
              "      <th></th>\n",
              "      <th>ID</th>\n",
              "      <th>step</th>\n",
              "      <th>type</th>\n",
              "      <th>amount</th>\n",
              "      <th>nameOrig</th>\n",
              "      <th>oldbalanceOrg</th>\n",
              "      <th>newbalanceOrig</th>\n",
              "      <th>nameDest</th>\n",
              "      <th>oldbalanceDest</th>\n",
              "      <th>newbalanceDest</th>\n",
              "      <th>isFraud</th>\n",
              "    </tr>\n",
              "  </thead>\n",
              "  <tbody>\n",
              "    <tr>\n",
              "      <th>18208</th>\n",
              "      <td>18209</td>\n",
              "      <td>108</td>\n",
              "      <td>TRANSFER</td>\n",
              "      <td>99808.45</td>\n",
              "      <td>C1704281751</td>\n",
              "      <td>99808.45</td>\n",
              "      <td>0.00</td>\n",
              "      <td>C587386073</td>\n",
              "      <td>0.00</td>\n",
              "      <td>0.00</td>\n",
              "      <td>1</td>\n",
              "    </tr>\n",
              "    <tr>\n",
              "      <th>18209</th>\n",
              "      <td>18210</td>\n",
              "      <td>173</td>\n",
              "      <td>TRANSFER</td>\n",
              "      <td>176273.29</td>\n",
              "      <td>C386692409</td>\n",
              "      <td>176273.29</td>\n",
              "      <td>0.00</td>\n",
              "      <td>C1025742188</td>\n",
              "      <td>0.00</td>\n",
              "      <td>0.00</td>\n",
              "      <td>1</td>\n",
              "    </tr>\n",
              "    <tr>\n",
              "      <th>18210</th>\n",
              "      <td>18211</td>\n",
              "      <td>347</td>\n",
              "      <td>PAYMENT</td>\n",
              "      <td>5854.11</td>\n",
              "      <td>C373113411</td>\n",
              "      <td>246233.85</td>\n",
              "      <td>240379.74</td>\n",
              "      <td>M312851300</td>\n",
              "      <td>0.00</td>\n",
              "      <td>0.00</td>\n",
              "      <td>0</td>\n",
              "    </tr>\n",
              "    <tr>\n",
              "      <th>18211</th>\n",
              "      <td>18212</td>\n",
              "      <td>380</td>\n",
              "      <td>CASH_OUT</td>\n",
              "      <td>87317.28</td>\n",
              "      <td>C413020159</td>\n",
              "      <td>140221.23</td>\n",
              "      <td>52903.95</td>\n",
              "      <td>C495945638</td>\n",
              "      <td>164096.85</td>\n",
              "      <td>251414.13</td>\n",
              "      <td>0</td>\n",
              "    </tr>\n",
              "    <tr>\n",
              "      <th>18212</th>\n",
              "      <td>18213</td>\n",
              "      <td>522</td>\n",
              "      <td>TRANSFER</td>\n",
              "      <td>1752606.15</td>\n",
              "      <td>C1333169684</td>\n",
              "      <td>1752606.15</td>\n",
              "      <td>0.00</td>\n",
              "      <td>C722968916</td>\n",
              "      <td>0.00</td>\n",
              "      <td>0.00</td>\n",
              "      <td>1</td>\n",
              "    </tr>\n",
              "  </tbody>\n",
              "</table>\n",
              "</div>\n",
              "    <div class=\"colab-df-buttons\">\n",
              "\n",
              "  <div class=\"colab-df-container\">\n",
              "    <button class=\"colab-df-convert\" onclick=\"convertToInteractive('df-0d5e5580-03d7-44e2-a750-83764e971cf5')\"\n",
              "            title=\"Convert this dataframe to an interactive table.\"\n",
              "            style=\"display:none;\">\n",
              "\n",
              "  <svg xmlns=\"http://www.w3.org/2000/svg\" height=\"24px\" viewBox=\"0 -960 960 960\">\n",
              "    <path d=\"M120-120v-720h720v720H120Zm60-500h600v-160H180v160Zm220 220h160v-160H400v160Zm0 220h160v-160H400v160ZM180-400h160v-160H180v160Zm440 0h160v-160H620v160ZM180-180h160v-160H180v160Zm440 0h160v-160H620v160Z\"/>\n",
              "  </svg>\n",
              "    </button>\n",
              "\n",
              "  <style>\n",
              "    .colab-df-container {\n",
              "      display:flex;\n",
              "      gap: 12px;\n",
              "    }\n",
              "\n",
              "    .colab-df-convert {\n",
              "      background-color: #E8F0FE;\n",
              "      border: none;\n",
              "      border-radius: 50%;\n",
              "      cursor: pointer;\n",
              "      display: none;\n",
              "      fill: #1967D2;\n",
              "      height: 32px;\n",
              "      padding: 0 0 0 0;\n",
              "      width: 32px;\n",
              "    }\n",
              "\n",
              "    .colab-df-convert:hover {\n",
              "      background-color: #E2EBFA;\n",
              "      box-shadow: 0px 1px 2px rgba(60, 64, 67, 0.3), 0px 1px 3px 1px rgba(60, 64, 67, 0.15);\n",
              "      fill: #174EA6;\n",
              "    }\n",
              "\n",
              "    .colab-df-buttons div {\n",
              "      margin-bottom: 4px;\n",
              "    }\n",
              "\n",
              "    [theme=dark] .colab-df-convert {\n",
              "      background-color: #3B4455;\n",
              "      fill: #D2E3FC;\n",
              "    }\n",
              "\n",
              "    [theme=dark] .colab-df-convert:hover {\n",
              "      background-color: #434B5C;\n",
              "      box-shadow: 0px 1px 3px 1px rgba(0, 0, 0, 0.15);\n",
              "      filter: drop-shadow(0px 1px 2px rgba(0, 0, 0, 0.3));\n",
              "      fill: #FFFFFF;\n",
              "    }\n",
              "  </style>\n",
              "\n",
              "    <script>\n",
              "      const buttonEl =\n",
              "        document.querySelector('#df-0d5e5580-03d7-44e2-a750-83764e971cf5 button.colab-df-convert');\n",
              "      buttonEl.style.display =\n",
              "        google.colab.kernel.accessAllowed ? 'block' : 'none';\n",
              "\n",
              "      async function convertToInteractive(key) {\n",
              "        const element = document.querySelector('#df-0d5e5580-03d7-44e2-a750-83764e971cf5');\n",
              "        const dataTable =\n",
              "          await google.colab.kernel.invokeFunction('convertToInteractive',\n",
              "                                                    [key], {});\n",
              "        if (!dataTable) return;\n",
              "\n",
              "        const docLinkHtml = 'Like what you see? Visit the ' +\n",
              "          '<a target=\"_blank\" href=https://colab.research.google.com/notebooks/data_table.ipynb>data table notebook</a>'\n",
              "          + ' to learn more about interactive tables.';\n",
              "        element.innerHTML = '';\n",
              "        dataTable['output_type'] = 'display_data';\n",
              "        await google.colab.output.renderOutput(dataTable, element);\n",
              "        const docLink = document.createElement('div');\n",
              "        docLink.innerHTML = docLinkHtml;\n",
              "        element.appendChild(docLink);\n",
              "      }\n",
              "    </script>\n",
              "  </div>\n",
              "\n",
              "\n",
              "<div id=\"df-3303783e-297c-40f2-b215-e297a7f2830b\">\n",
              "  <button class=\"colab-df-quickchart\" onclick=\"quickchart('df-3303783e-297c-40f2-b215-e297a7f2830b')\"\n",
              "            title=\"Suggest charts\"\n",
              "            style=\"display:none;\">\n",
              "\n",
              "<svg xmlns=\"http://www.w3.org/2000/svg\" height=\"24px\"viewBox=\"0 0 24 24\"\n",
              "     width=\"24px\">\n",
              "    <g>\n",
              "        <path d=\"M19 3H5c-1.1 0-2 .9-2 2v14c0 1.1.9 2 2 2h14c1.1 0 2-.9 2-2V5c0-1.1-.9-2-2-2zM9 17H7v-7h2v7zm4 0h-2V7h2v10zm4 0h-2v-4h2v4z\"/>\n",
              "    </g>\n",
              "</svg>\n",
              "  </button>\n",
              "\n",
              "<style>\n",
              "  .colab-df-quickchart {\n",
              "      --bg-color: #E8F0FE;\n",
              "      --fill-color: #1967D2;\n",
              "      --hover-bg-color: #E2EBFA;\n",
              "      --hover-fill-color: #174EA6;\n",
              "      --disabled-fill-color: #AAA;\n",
              "      --disabled-bg-color: #DDD;\n",
              "  }\n",
              "\n",
              "  [theme=dark] .colab-df-quickchart {\n",
              "      --bg-color: #3B4455;\n",
              "      --fill-color: #D2E3FC;\n",
              "      --hover-bg-color: #434B5C;\n",
              "      --hover-fill-color: #FFFFFF;\n",
              "      --disabled-bg-color: #3B4455;\n",
              "      --disabled-fill-color: #666;\n",
              "  }\n",
              "\n",
              "  .colab-df-quickchart {\n",
              "    background-color: var(--bg-color);\n",
              "    border: none;\n",
              "    border-radius: 50%;\n",
              "    cursor: pointer;\n",
              "    display: none;\n",
              "    fill: var(--fill-color);\n",
              "    height: 32px;\n",
              "    padding: 0;\n",
              "    width: 32px;\n",
              "  }\n",
              "\n",
              "  .colab-df-quickchart:hover {\n",
              "    background-color: var(--hover-bg-color);\n",
              "    box-shadow: 0 1px 2px rgba(60, 64, 67, 0.3), 0 1px 3px 1px rgba(60, 64, 67, 0.15);\n",
              "    fill: var(--button-hover-fill-color);\n",
              "  }\n",
              "\n",
              "  .colab-df-quickchart-complete:disabled,\n",
              "  .colab-df-quickchart-complete:disabled:hover {\n",
              "    background-color: var(--disabled-bg-color);\n",
              "    fill: var(--disabled-fill-color);\n",
              "    box-shadow: none;\n",
              "  }\n",
              "\n",
              "  .colab-df-spinner {\n",
              "    border: 2px solid var(--fill-color);\n",
              "    border-color: transparent;\n",
              "    border-bottom-color: var(--fill-color);\n",
              "    animation:\n",
              "      spin 1s steps(1) infinite;\n",
              "  }\n",
              "\n",
              "  @keyframes spin {\n",
              "    0% {\n",
              "      border-color: transparent;\n",
              "      border-bottom-color: var(--fill-color);\n",
              "      border-left-color: var(--fill-color);\n",
              "    }\n",
              "    20% {\n",
              "      border-color: transparent;\n",
              "      border-left-color: var(--fill-color);\n",
              "      border-top-color: var(--fill-color);\n",
              "    }\n",
              "    30% {\n",
              "      border-color: transparent;\n",
              "      border-left-color: var(--fill-color);\n",
              "      border-top-color: var(--fill-color);\n",
              "      border-right-color: var(--fill-color);\n",
              "    }\n",
              "    40% {\n",
              "      border-color: transparent;\n",
              "      border-right-color: var(--fill-color);\n",
              "      border-top-color: var(--fill-color);\n",
              "    }\n",
              "    60% {\n",
              "      border-color: transparent;\n",
              "      border-right-color: var(--fill-color);\n",
              "    }\n",
              "    80% {\n",
              "      border-color: transparent;\n",
              "      border-right-color: var(--fill-color);\n",
              "      border-bottom-color: var(--fill-color);\n",
              "    }\n",
              "    90% {\n",
              "      border-color: transparent;\n",
              "      border-bottom-color: var(--fill-color);\n",
              "    }\n",
              "  }\n",
              "</style>\n",
              "\n",
              "  <script>\n",
              "    async function quickchart(key) {\n",
              "      const quickchartButtonEl =\n",
              "        document.querySelector('#' + key + ' button');\n",
              "      quickchartButtonEl.disabled = true;  // To prevent multiple clicks.\n",
              "      quickchartButtonEl.classList.add('colab-df-spinner');\n",
              "      try {\n",
              "        const charts = await google.colab.kernel.invokeFunction(\n",
              "            'suggestCharts', [key], {});\n",
              "      } catch (error) {\n",
              "        console.error('Error during call to suggestCharts:', error);\n",
              "      }\n",
              "      quickchartButtonEl.classList.remove('colab-df-spinner');\n",
              "      quickchartButtonEl.classList.add('colab-df-quickchart-complete');\n",
              "    }\n",
              "    (() => {\n",
              "      let quickchartButtonEl =\n",
              "        document.querySelector('#df-3303783e-297c-40f2-b215-e297a7f2830b button');\n",
              "      quickchartButtonEl.style.display =\n",
              "        google.colab.kernel.accessAllowed ? 'block' : 'none';\n",
              "    })();\n",
              "  </script>\n",
              "</div>\n",
              "\n",
              "    </div>\n",
              "  </div>\n"
            ],
            "application/vnd.google.colaboratory.intrinsic+json": {
              "type": "dataframe",
              "summary": "{\n  \"name\": \"df\",\n  \"rows\": 5,\n  \"fields\": [\n    {\n      \"column\": \"ID\",\n      \"properties\": {\n        \"dtype\": \"number\",\n        \"std\": 1,\n        \"min\": 18209,\n        \"max\": 18213,\n        \"num_unique_values\": 5,\n        \"samples\": [\n          18210,\n          18213,\n          18211\n        ],\n        \"semantic_type\": \"\",\n        \"description\": \"\"\n      }\n    },\n    {\n      \"column\": \"step\",\n      \"properties\": {\n        \"dtype\": \"number\",\n        \"std\": 166,\n        \"min\": 108,\n        \"max\": 522,\n        \"num_unique_values\": 5,\n        \"samples\": [\n          173,\n          522,\n          347\n        ],\n        \"semantic_type\": \"\",\n        \"description\": \"\"\n      }\n    },\n    {\n      \"column\": \"type\",\n      \"properties\": {\n        \"dtype\": \"string\",\n        \"num_unique_values\": 3,\n        \"samples\": [\n          \"TRANSFER\",\n          \"PAYMENT\",\n          \"CASH_OUT\"\n        ],\n        \"semantic_type\": \"\",\n        \"description\": \"\"\n      }\n    },\n    {\n      \"column\": \"amount\",\n      \"properties\": {\n        \"dtype\": \"number\",\n        \"std\": 744960.3233801643,\n        \"min\": 5854.11,\n        \"max\": 1752606.15,\n        \"num_unique_values\": 5,\n        \"samples\": [\n          176273.29,\n          1752606.15,\n          5854.11\n        ],\n        \"semantic_type\": \"\",\n        \"description\": \"\"\n      }\n    },\n    {\n      \"column\": \"nameOrig\",\n      \"properties\": {\n        \"dtype\": \"string\",\n        \"num_unique_values\": 5,\n        \"samples\": [\n          \"C386692409\",\n          \"C1333169684\",\n          \"C373113411\"\n        ],\n        \"semantic_type\": \"\",\n        \"description\": \"\"\n      }\n    },\n    {\n      \"column\": \"oldbalanceOrg\",\n      \"properties\": {\n        \"dtype\": \"number\",\n        \"std\": 711753.5222247059,\n        \"min\": 99808.45,\n        \"max\": 1752606.15,\n        \"num_unique_values\": 5,\n        \"samples\": [\n          176273.29,\n          1752606.15,\n          246233.85\n        ],\n        \"semantic_type\": \"\",\n        \"description\": \"\"\n      }\n    },\n    {\n      \"column\": \"newbalanceOrig\",\n      \"properties\": {\n        \"dtype\": \"number\",\n        \"std\": 104137.14846785809,\n        \"min\": 0.0,\n        \"max\": 240379.74,\n        \"num_unique_values\": 3,\n        \"samples\": [\n          0.0,\n          240379.74,\n          52903.95\n        ],\n        \"semantic_type\": \"\",\n        \"description\": \"\"\n      }\n    },\n    {\n      \"column\": \"nameDest\",\n      \"properties\": {\n        \"dtype\": \"string\",\n        \"num_unique_values\": 5,\n        \"samples\": [\n          \"C1025742188\",\n          \"C722968916\",\n          \"M312851300\"\n        ],\n        \"semantic_type\": \"\",\n        \"description\": \"\"\n      }\n    },\n    {\n      \"column\": \"oldbalanceDest\",\n      \"properties\": {\n        \"dtype\": \"number\",\n        \"std\": 73386.34229871728,\n        \"min\": 0.0,\n        \"max\": 164096.85,\n        \"num_unique_values\": 2,\n        \"samples\": [\n          164096.85,\n          0.0\n        ],\n        \"semantic_type\": \"\",\n        \"description\": \"\"\n      }\n    },\n    {\n      \"column\": \"newbalanceDest\",\n      \"properties\": {\n        \"dtype\": \"number\",\n        \"std\": 112435.81703679384,\n        \"min\": 0.0,\n        \"max\": 251414.13,\n        \"num_unique_values\": 2,\n        \"samples\": [\n          251414.13,\n          0.0\n        ],\n        \"semantic_type\": \"\",\n        \"description\": \"\"\n      }\n    },\n    {\n      \"column\": \"isFraud\",\n      \"properties\": {\n        \"dtype\": \"number\",\n        \"std\": 0,\n        \"min\": 0,\n        \"max\": 1,\n        \"num_unique_values\": 2,\n        \"samples\": [\n          0,\n          1\n        ],\n        \"semantic_type\": \"\",\n        \"description\": \"\"\n      }\n    }\n  ]\n}"
            }
          },
          "metadata": {},
          "execution_count": 7
        }
      ]
    },
    {
      "cell_type": "code",
      "source": [
        "#checking info\n",
        "df.info()"
      ],
      "metadata": {
        "colab": {
          "base_uri": "https://localhost:8080/"
        },
        "id": "Y-Uivig275x5",
        "outputId": "ee0505e8-1d49-49b1-c2b1-ea22b4a1f206"
      },
      "execution_count": 10,
      "outputs": [
        {
          "output_type": "stream",
          "name": "stdout",
          "text": [
            "<class 'pandas.core.frame.DataFrame'>\n",
            "RangeIndex: 18213 entries, 0 to 18212\n",
            "Data columns (total 11 columns):\n",
            " #   Column          Non-Null Count  Dtype  \n",
            "---  ------          --------------  -----  \n",
            " 0   ID              18213 non-null  int64  \n",
            " 1   step            18213 non-null  int64  \n",
            " 2   type            18213 non-null  object \n",
            " 3   amount          18213 non-null  float64\n",
            " 4   nameOrig        18213 non-null  object \n",
            " 5   oldbalanceOrg   18213 non-null  float64\n",
            " 6   newbalanceOrig  18213 non-null  float64\n",
            " 7   nameDest        18213 non-null  object \n",
            " 8   oldbalanceDest  18213 non-null  float64\n",
            " 9   newbalanceDest  18213 non-null  float64\n",
            " 10  isFraud         18213 non-null  int64  \n",
            "dtypes: float64(5), int64(3), object(3)\n",
            "memory usage: 1.5+ MB\n"
          ]
        }
      ]
    },
    {
      "cell_type": "code",
      "source": [
        "df.describe()"
      ],
      "metadata": {
        "colab": {
          "base_uri": "https://localhost:8080/",
          "height": 300
        },
        "id": "b6-S7jBg79WP",
        "outputId": "c3f6c151-c9f8-4472-b85f-be7bcdeb39e7"
      },
      "execution_count": 11,
      "outputs": [
        {
          "output_type": "execute_result",
          "data": {
            "text/plain": [
              "                 ID          step        amount  oldbalanceOrg  \\\n",
              "count  18213.000000  18213.000000  1.821300e+04   1.821300e+04   \n",
              "mean    9107.000000    300.244441  7.624918e+05   1.200076e+06   \n",
              "std     5257.784562    190.009780  1.824941e+06   3.222081e+06   \n",
              "min        1.000000      1.000000  0.000000e+00   0.000000e+00   \n",
              "25%     4554.000000    161.000000  3.266058e+04   7.087000e+03   \n",
              "50%     9107.000000    280.000000  1.593057e+05   1.001090e+05   \n",
              "75%    13660.000000    402.000000  4.753156e+05   6.991836e+05   \n",
              "max    18213.000000    743.000000  5.199086e+07   5.958504e+07   \n",
              "\n",
              "       newbalanceOrig  oldbalanceDest  newbalanceDest       isFraud  \n",
              "count    1.821300e+04    1.821300e+04    1.821300e+04  18213.000000  \n",
              "mean     5.546390e+05    8.655575e+05    1.269872e+06      0.450942  \n",
              "std      2.551140e+06    3.286398e+06    3.738408e+06      0.497601  \n",
              "min      0.000000e+00    0.000000e+00    0.000000e+00      0.000000  \n",
              "25%      0.000000e+00    0.000000e+00    0.000000e+00      0.000000  \n",
              "50%      0.000000e+00    0.000000e+00    1.422921e+05      0.000000  \n",
              "75%      0.000000e+00    5.530399e+05    1.107620e+06      1.000000  \n",
              "max      4.958504e+07    2.362305e+08    2.367265e+08      1.000000  "
            ],
            "text/html": [
              "\n",
              "  <div id=\"df-ca8380bb-c855-456f-ad35-319b30f614e8\" class=\"colab-df-container\">\n",
              "    <div>\n",
              "<style scoped>\n",
              "    .dataframe tbody tr th:only-of-type {\n",
              "        vertical-align: middle;\n",
              "    }\n",
              "\n",
              "    .dataframe tbody tr th {\n",
              "        vertical-align: top;\n",
              "    }\n",
              "\n",
              "    .dataframe thead th {\n",
              "        text-align: right;\n",
              "    }\n",
              "</style>\n",
              "<table border=\"1\" class=\"dataframe\">\n",
              "  <thead>\n",
              "    <tr style=\"text-align: right;\">\n",
              "      <th></th>\n",
              "      <th>ID</th>\n",
              "      <th>step</th>\n",
              "      <th>amount</th>\n",
              "      <th>oldbalanceOrg</th>\n",
              "      <th>newbalanceOrig</th>\n",
              "      <th>oldbalanceDest</th>\n",
              "      <th>newbalanceDest</th>\n",
              "      <th>isFraud</th>\n",
              "    </tr>\n",
              "  </thead>\n",
              "  <tbody>\n",
              "    <tr>\n",
              "      <th>count</th>\n",
              "      <td>18213.000000</td>\n",
              "      <td>18213.000000</td>\n",
              "      <td>1.821300e+04</td>\n",
              "      <td>1.821300e+04</td>\n",
              "      <td>1.821300e+04</td>\n",
              "      <td>1.821300e+04</td>\n",
              "      <td>1.821300e+04</td>\n",
              "      <td>18213.000000</td>\n",
              "    </tr>\n",
              "    <tr>\n",
              "      <th>mean</th>\n",
              "      <td>9107.000000</td>\n",
              "      <td>300.244441</td>\n",
              "      <td>7.624918e+05</td>\n",
              "      <td>1.200076e+06</td>\n",
              "      <td>5.546390e+05</td>\n",
              "      <td>8.655575e+05</td>\n",
              "      <td>1.269872e+06</td>\n",
              "      <td>0.450942</td>\n",
              "    </tr>\n",
              "    <tr>\n",
              "      <th>std</th>\n",
              "      <td>5257.784562</td>\n",
              "      <td>190.009780</td>\n",
              "      <td>1.824941e+06</td>\n",
              "      <td>3.222081e+06</td>\n",
              "      <td>2.551140e+06</td>\n",
              "      <td>3.286398e+06</td>\n",
              "      <td>3.738408e+06</td>\n",
              "      <td>0.497601</td>\n",
              "    </tr>\n",
              "    <tr>\n",
              "      <th>min</th>\n",
              "      <td>1.000000</td>\n",
              "      <td>1.000000</td>\n",
              "      <td>0.000000e+00</td>\n",
              "      <td>0.000000e+00</td>\n",
              "      <td>0.000000e+00</td>\n",
              "      <td>0.000000e+00</td>\n",
              "      <td>0.000000e+00</td>\n",
              "      <td>0.000000</td>\n",
              "    </tr>\n",
              "    <tr>\n",
              "      <th>25%</th>\n",
              "      <td>4554.000000</td>\n",
              "      <td>161.000000</td>\n",
              "      <td>3.266058e+04</td>\n",
              "      <td>7.087000e+03</td>\n",
              "      <td>0.000000e+00</td>\n",
              "      <td>0.000000e+00</td>\n",
              "      <td>0.000000e+00</td>\n",
              "      <td>0.000000</td>\n",
              "    </tr>\n",
              "    <tr>\n",
              "      <th>50%</th>\n",
              "      <td>9107.000000</td>\n",
              "      <td>280.000000</td>\n",
              "      <td>1.593057e+05</td>\n",
              "      <td>1.001090e+05</td>\n",
              "      <td>0.000000e+00</td>\n",
              "      <td>0.000000e+00</td>\n",
              "      <td>1.422921e+05</td>\n",
              "      <td>0.000000</td>\n",
              "    </tr>\n",
              "    <tr>\n",
              "      <th>75%</th>\n",
              "      <td>13660.000000</td>\n",
              "      <td>402.000000</td>\n",
              "      <td>4.753156e+05</td>\n",
              "      <td>6.991836e+05</td>\n",
              "      <td>0.000000e+00</td>\n",
              "      <td>5.530399e+05</td>\n",
              "      <td>1.107620e+06</td>\n",
              "      <td>1.000000</td>\n",
              "    </tr>\n",
              "    <tr>\n",
              "      <th>max</th>\n",
              "      <td>18213.000000</td>\n",
              "      <td>743.000000</td>\n",
              "      <td>5.199086e+07</td>\n",
              "      <td>5.958504e+07</td>\n",
              "      <td>4.958504e+07</td>\n",
              "      <td>2.362305e+08</td>\n",
              "      <td>2.367265e+08</td>\n",
              "      <td>1.000000</td>\n",
              "    </tr>\n",
              "  </tbody>\n",
              "</table>\n",
              "</div>\n",
              "    <div class=\"colab-df-buttons\">\n",
              "\n",
              "  <div class=\"colab-df-container\">\n",
              "    <button class=\"colab-df-convert\" onclick=\"convertToInteractive('df-ca8380bb-c855-456f-ad35-319b30f614e8')\"\n",
              "            title=\"Convert this dataframe to an interactive table.\"\n",
              "            style=\"display:none;\">\n",
              "\n",
              "  <svg xmlns=\"http://www.w3.org/2000/svg\" height=\"24px\" viewBox=\"0 -960 960 960\">\n",
              "    <path d=\"M120-120v-720h720v720H120Zm60-500h600v-160H180v160Zm220 220h160v-160H400v160Zm0 220h160v-160H400v160ZM180-400h160v-160H180v160Zm440 0h160v-160H620v160ZM180-180h160v-160H180v160Zm440 0h160v-160H620v160Z\"/>\n",
              "  </svg>\n",
              "    </button>\n",
              "\n",
              "  <style>\n",
              "    .colab-df-container {\n",
              "      display:flex;\n",
              "      gap: 12px;\n",
              "    }\n",
              "\n",
              "    .colab-df-convert {\n",
              "      background-color: #E8F0FE;\n",
              "      border: none;\n",
              "      border-radius: 50%;\n",
              "      cursor: pointer;\n",
              "      display: none;\n",
              "      fill: #1967D2;\n",
              "      height: 32px;\n",
              "      padding: 0 0 0 0;\n",
              "      width: 32px;\n",
              "    }\n",
              "\n",
              "    .colab-df-convert:hover {\n",
              "      background-color: #E2EBFA;\n",
              "      box-shadow: 0px 1px 2px rgba(60, 64, 67, 0.3), 0px 1px 3px 1px rgba(60, 64, 67, 0.15);\n",
              "      fill: #174EA6;\n",
              "    }\n",
              "\n",
              "    .colab-df-buttons div {\n",
              "      margin-bottom: 4px;\n",
              "    }\n",
              "\n",
              "    [theme=dark] .colab-df-convert {\n",
              "      background-color: #3B4455;\n",
              "      fill: #D2E3FC;\n",
              "    }\n",
              "\n",
              "    [theme=dark] .colab-df-convert:hover {\n",
              "      background-color: #434B5C;\n",
              "      box-shadow: 0px 1px 3px 1px rgba(0, 0, 0, 0.15);\n",
              "      filter: drop-shadow(0px 1px 2px rgba(0, 0, 0, 0.3));\n",
              "      fill: #FFFFFF;\n",
              "    }\n",
              "  </style>\n",
              "\n",
              "    <script>\n",
              "      const buttonEl =\n",
              "        document.querySelector('#df-ca8380bb-c855-456f-ad35-319b30f614e8 button.colab-df-convert');\n",
              "      buttonEl.style.display =\n",
              "        google.colab.kernel.accessAllowed ? 'block' : 'none';\n",
              "\n",
              "      async function convertToInteractive(key) {\n",
              "        const element = document.querySelector('#df-ca8380bb-c855-456f-ad35-319b30f614e8');\n",
              "        const dataTable =\n",
              "          await google.colab.kernel.invokeFunction('convertToInteractive',\n",
              "                                                    [key], {});\n",
              "        if (!dataTable) return;\n",
              "\n",
              "        const docLinkHtml = 'Like what you see? Visit the ' +\n",
              "          '<a target=\"_blank\" href=https://colab.research.google.com/notebooks/data_table.ipynb>data table notebook</a>'\n",
              "          + ' to learn more about interactive tables.';\n",
              "        element.innerHTML = '';\n",
              "        dataTable['output_type'] = 'display_data';\n",
              "        await google.colab.output.renderOutput(dataTable, element);\n",
              "        const docLink = document.createElement('div');\n",
              "        docLink.innerHTML = docLinkHtml;\n",
              "        element.appendChild(docLink);\n",
              "      }\n",
              "    </script>\n",
              "  </div>\n",
              "\n",
              "\n",
              "<div id=\"df-f40f6139-f778-451e-9860-b3cbed07df42\">\n",
              "  <button class=\"colab-df-quickchart\" onclick=\"quickchart('df-f40f6139-f778-451e-9860-b3cbed07df42')\"\n",
              "            title=\"Suggest charts\"\n",
              "            style=\"display:none;\">\n",
              "\n",
              "<svg xmlns=\"http://www.w3.org/2000/svg\" height=\"24px\"viewBox=\"0 0 24 24\"\n",
              "     width=\"24px\">\n",
              "    <g>\n",
              "        <path d=\"M19 3H5c-1.1 0-2 .9-2 2v14c0 1.1.9 2 2 2h14c1.1 0 2-.9 2-2V5c0-1.1-.9-2-2-2zM9 17H7v-7h2v7zm4 0h-2V7h2v10zm4 0h-2v-4h2v4z\"/>\n",
              "    </g>\n",
              "</svg>\n",
              "  </button>\n",
              "\n",
              "<style>\n",
              "  .colab-df-quickchart {\n",
              "      --bg-color: #E8F0FE;\n",
              "      --fill-color: #1967D2;\n",
              "      --hover-bg-color: #E2EBFA;\n",
              "      --hover-fill-color: #174EA6;\n",
              "      --disabled-fill-color: #AAA;\n",
              "      --disabled-bg-color: #DDD;\n",
              "  }\n",
              "\n",
              "  [theme=dark] .colab-df-quickchart {\n",
              "      --bg-color: #3B4455;\n",
              "      --fill-color: #D2E3FC;\n",
              "      --hover-bg-color: #434B5C;\n",
              "      --hover-fill-color: #FFFFFF;\n",
              "      --disabled-bg-color: #3B4455;\n",
              "      --disabled-fill-color: #666;\n",
              "  }\n",
              "\n",
              "  .colab-df-quickchart {\n",
              "    background-color: var(--bg-color);\n",
              "    border: none;\n",
              "    border-radius: 50%;\n",
              "    cursor: pointer;\n",
              "    display: none;\n",
              "    fill: var(--fill-color);\n",
              "    height: 32px;\n",
              "    padding: 0;\n",
              "    width: 32px;\n",
              "  }\n",
              "\n",
              "  .colab-df-quickchart:hover {\n",
              "    background-color: var(--hover-bg-color);\n",
              "    box-shadow: 0 1px 2px rgba(60, 64, 67, 0.3), 0 1px 3px 1px rgba(60, 64, 67, 0.15);\n",
              "    fill: var(--button-hover-fill-color);\n",
              "  }\n",
              "\n",
              "  .colab-df-quickchart-complete:disabled,\n",
              "  .colab-df-quickchart-complete:disabled:hover {\n",
              "    background-color: var(--disabled-bg-color);\n",
              "    fill: var(--disabled-fill-color);\n",
              "    box-shadow: none;\n",
              "  }\n",
              "\n",
              "  .colab-df-spinner {\n",
              "    border: 2px solid var(--fill-color);\n",
              "    border-color: transparent;\n",
              "    border-bottom-color: var(--fill-color);\n",
              "    animation:\n",
              "      spin 1s steps(1) infinite;\n",
              "  }\n",
              "\n",
              "  @keyframes spin {\n",
              "    0% {\n",
              "      border-color: transparent;\n",
              "      border-bottom-color: var(--fill-color);\n",
              "      border-left-color: var(--fill-color);\n",
              "    }\n",
              "    20% {\n",
              "      border-color: transparent;\n",
              "      border-left-color: var(--fill-color);\n",
              "      border-top-color: var(--fill-color);\n",
              "    }\n",
              "    30% {\n",
              "      border-color: transparent;\n",
              "      border-left-color: var(--fill-color);\n",
              "      border-top-color: var(--fill-color);\n",
              "      border-right-color: var(--fill-color);\n",
              "    }\n",
              "    40% {\n",
              "      border-color: transparent;\n",
              "      border-right-color: var(--fill-color);\n",
              "      border-top-color: var(--fill-color);\n",
              "    }\n",
              "    60% {\n",
              "      border-color: transparent;\n",
              "      border-right-color: var(--fill-color);\n",
              "    }\n",
              "    80% {\n",
              "      border-color: transparent;\n",
              "      border-right-color: var(--fill-color);\n",
              "      border-bottom-color: var(--fill-color);\n",
              "    }\n",
              "    90% {\n",
              "      border-color: transparent;\n",
              "      border-bottom-color: var(--fill-color);\n",
              "    }\n",
              "  }\n",
              "</style>\n",
              "\n",
              "  <script>\n",
              "    async function quickchart(key) {\n",
              "      const quickchartButtonEl =\n",
              "        document.querySelector('#' + key + ' button');\n",
              "      quickchartButtonEl.disabled = true;  // To prevent multiple clicks.\n",
              "      quickchartButtonEl.classList.add('colab-df-spinner');\n",
              "      try {\n",
              "        const charts = await google.colab.kernel.invokeFunction(\n",
              "            'suggestCharts', [key], {});\n",
              "      } catch (error) {\n",
              "        console.error('Error during call to suggestCharts:', error);\n",
              "      }\n",
              "      quickchartButtonEl.classList.remove('colab-df-spinner');\n",
              "      quickchartButtonEl.classList.add('colab-df-quickchart-complete');\n",
              "    }\n",
              "    (() => {\n",
              "      let quickchartButtonEl =\n",
              "        document.querySelector('#df-f40f6139-f778-451e-9860-b3cbed07df42 button');\n",
              "      quickchartButtonEl.style.display =\n",
              "        google.colab.kernel.accessAllowed ? 'block' : 'none';\n",
              "    })();\n",
              "  </script>\n",
              "</div>\n",
              "\n",
              "    </div>\n",
              "  </div>\n"
            ],
            "application/vnd.google.colaboratory.intrinsic+json": {
              "type": "dataframe",
              "summary": "{\n  \"name\": \"df\",\n  \"rows\": 8,\n  \"fields\": [\n    {\n      \"column\": \"ID\",\n      \"properties\": {\n        \"dtype\": \"number\",\n        \"std\": 6563.748520657938,\n        \"min\": 1.0,\n        \"max\": 18213.0,\n        \"num_unique_values\": 6,\n        \"samples\": [\n          18213.0,\n          9107.0,\n          13660.0\n        ],\n        \"semantic_type\": \"\",\n        \"description\": \"\"\n      }\n    },\n    {\n      \"column\": \"step\",\n      \"properties\": {\n        \"dtype\": \"number\",\n        \"std\": 6338.046030528929,\n        \"min\": 1.0,\n        \"max\": 18213.0,\n        \"num_unique_values\": 8,\n        \"samples\": [\n          300.24444078405537,\n          280.0,\n          18213.0\n        ],\n        \"semantic_type\": \"\",\n        \"description\": \"\"\n      }\n    },\n    {\n      \"column\": \"amount\",\n      \"properties\": {\n        \"dtype\": \"number\",\n        \"std\": 18226563.51248851,\n        \"min\": 0.0,\n        \"max\": 51990860.85,\n        \"num_unique_values\": 8,\n        \"samples\": [\n          762491.8423461263,\n          159305.66,\n          18213.0\n        ],\n        \"semantic_type\": \"\",\n        \"description\": \"\"\n      }\n    },\n    {\n      \"column\": \"oldbalanceOrg\",\n      \"properties\": {\n        \"dtype\": \"number\",\n        \"std\": 20830277.27978027,\n        \"min\": 0.0,\n        \"max\": 59585040.37,\n        \"num_unique_values\": 8,\n        \"samples\": [\n          1200076.359942349,\n          100109.03,\n          18213.0\n        ],\n        \"semantic_type\": \"\",\n        \"description\": \"\"\n      }\n    },\n    {\n      \"column\": \"newbalanceOrig\",\n      \"properties\": {\n        \"dtype\": \"number\",\n        \"std\": 17395451.934332438,\n        \"min\": 0.0,\n        \"max\": 49585040.37,\n        \"num_unique_values\": 5,\n        \"samples\": [\n          554639.0116674904,\n          49585040.37,\n          2551140.262119838\n        ],\n        \"semantic_type\": \"\",\n        \"description\": \"\"\n      }\n    },\n    {\n      \"column\": \"oldbalanceDest\",\n      \"properties\": {\n        \"dtype\": \"number\",\n        \"std\": 83288976.83386143,\n        \"min\": 0.0,\n        \"max\": 236230516.8,\n        \"num_unique_values\": 6,\n        \"samples\": [\n          18213.0,\n          865557.4592983035,\n          236230516.8\n        ],\n        \"semantic_type\": \"\",\n        \"description\": \"\"\n      }\n    },\n    {\n      \"column\": \"newbalanceDest\",\n      \"properties\": {\n        \"dtype\": \"number\",\n        \"std\": 83388049.73653522,\n        \"min\": 0.0,\n        \"max\": 236726494.7,\n        \"num_unique_values\": 7,\n        \"samples\": [\n          18213.0,\n          1269871.5885202875,\n          1107619.57\n        ],\n        \"semantic_type\": \"\",\n        \"description\": \"\"\n      }\n    },\n    {\n      \"column\": \"isFraud\",\n      \"properties\": {\n        \"dtype\": \"number\",\n        \"std\": 6439.118992388078,\n        \"min\": 0.0,\n        \"max\": 18213.0,\n        \"num_unique_values\": 5,\n        \"samples\": [\n          0.4509416350958107,\n          1.0,\n          0.4976011172569346\n        ],\n        \"semantic_type\": \"\",\n        \"description\": \"\"\n      }\n    }\n  ]\n}"
            }
          },
          "metadata": {},
          "execution_count": 11
        }
      ]
    },
    {
      "cell_type": "code",
      "source": [
        "#checking if there are null values in the data\n",
        "\n",
        "df.isnull().sum()"
      ],
      "metadata": {
        "colab": {
          "base_uri": "https://localhost:8080/"
        },
        "id": "jJNXDXkV8T1q",
        "outputId": "745a9740-f04f-4c68-c13e-8f154c50e913"
      },
      "execution_count": 12,
      "outputs": [
        {
          "output_type": "execute_result",
          "data": {
            "text/plain": [
              "ID                0\n",
              "step              0\n",
              "type              0\n",
              "amount            0\n",
              "nameOrig          0\n",
              "oldbalanceOrg     0\n",
              "newbalanceOrig    0\n",
              "nameDest          0\n",
              "oldbalanceDest    0\n",
              "newbalanceDest    0\n",
              "isFraud           0\n",
              "dtype: int64"
            ]
          },
          "metadata": {},
          "execution_count": 12
        }
      ]
    },
    {
      "cell_type": "code",
      "source": [
        "\n",
        "obj = (df.dtypes == 'object')\n",
        "object_cols = list(obj[obj].index)\n",
        "print(\"Categorical variables:\", len(object_cols))\n",
        "\n",
        "int_ = (df.dtypes == 'int')\n",
        "num_cols = list(int_[int_].index)\n",
        "print(\"Integer variables:\", len(num_cols))\n",
        "\n",
        "fl = (df.dtypes == 'float')\n",
        "fl_cols = list(fl[fl].index)\n",
        "print(\"Float variables:\", len(fl_cols))"
      ],
      "metadata": {
        "colab": {
          "base_uri": "https://localhost:8080/"
        },
        "id": "pZWV-_je-zZu",
        "outputId": "15202539-facc-498c-b61a-6717d42be6ab"
      },
      "execution_count": 18,
      "outputs": [
        {
          "output_type": "stream",
          "name": "stdout",
          "text": [
            "Categorical variables: 3\n",
            "Integer variables: 3\n",
            "Float variables: 5\n"
          ]
        }
      ]
    },
    {
      "cell_type": "code",
      "source": [
        "# sns.countplot(x='type', data=data)\n",
        "sns.countplot(x='type', data=data, palette='Set3')"
      ],
      "metadata": {
        "colab": {
          "base_uri": "https://localhost:8080/",
          "height": 575
        },
        "id": "24yAu9lv-8Cu",
        "outputId": "a4b1c5d1-9bc6-4b37-b8c2-bc55711984e7"
      },
      "execution_count": 20,
      "outputs": [
        {
          "output_type": "stream",
          "name": "stderr",
          "text": [
            "<ipython-input-20-8682b85edab0>:2: FutureWarning: \n",
            "\n",
            "Passing `palette` without assigning `hue` is deprecated and will be removed in v0.14.0. Assign the `x` variable to `hue` and set `legend=False` for the same effect.\n",
            "\n",
            "  sns.countplot(x='type', data=data, palette='Set3')\n"
          ]
        },
        {
          "output_type": "execute_result",
          "data": {
            "text/plain": [
              "<Axes: xlabel='type', ylabel='count'>"
            ]
          },
          "metadata": {},
          "execution_count": 20
        },
        {
          "output_type": "display_data",
          "data": {
            "text/plain": [
              "<Figure size 640x480 with 1 Axes>"
            ],
            "image/png": "[encoded data removed]"
          },
          "metadata": {}
        }
      ]
    },
    {
      "cell_type": "code",
      "source": [
        "# value counts of \"IsFraud\" column\n",
        "\n",
        "df[\"isFraud\"].value_counts()"
      ],
      "metadata": {
        "colab": {
          "base_uri": "https://localhost:8080/"
        },
        "id": "bg73bbjf8ah-",
        "outputId": "407fa451-0ee7-4a4a-b0c5-23d8275ab628"
      },
      "execution_count": 13,
      "outputs": [
        {
          "output_type": "execute_result",
          "data": {
            "text/plain": [
              "0    10000\n",
              "1     8213\n",
              "Name: isFraud, dtype: int64"
            ]
          },
          "metadata": {},
          "execution_count": 13
        }
      ]
    },
    {
      "cell_type": "code",
      "source": [
        "df[\"type\"].value_counts()"
      ],
      "metadata": {
        "colab": {
          "base_uri": "https://localhost:8080/"
        },
        "id": "nRANkWWb8oxX",
        "outputId": "1540e0f2-b652-4f4b-875e-3400473e83b2"
      },
      "execution_count": 14,
      "outputs": [
        {
          "output_type": "execute_result",
          "data": {
            "text/plain": [
              "CASH_OUT    7710\n",
              "TRANSFER    4902\n",
              "PAYMENT     3368\n",
              "CASH_IN     2170\n",
              "DEBIT         63\n",
              "Name: type, dtype: int64"
            ]
          },
          "metadata": {},
          "execution_count": 14
        }
      ]
    },
    {
      "cell_type": "code",
      "source": [
        "fraud_percentage_by_type=df.groupby('type')['isFraud'].mean()*100"
      ],
      "metadata": {
        "id": "v1zO0let8t4l"
      },
      "execution_count": 15,
      "outputs": []
    },
    {
      "cell_type": "code",
      "source": [
        "fraud_percentage_by_type"
      ],
      "metadata": {
        "colab": {
          "base_uri": "https://localhost:8080/"
        },
        "id": "QYRNTf_L9Shq",
        "outputId": "1817bcae-34fc-48b7-c89e-3de6eda46649"
      },
      "execution_count": 16,
      "outputs": [
        {
          "output_type": "execute_result",
          "data": {
            "text/plain": [
              "type\n",
              "CASH_IN      0.000000\n",
              "CASH_OUT    53.385214\n",
              "DEBIT        0.000000\n",
              "PAYMENT      0.000000\n",
              "TRANSFER    83.578131\n",
              "Name: isFraud, dtype: float64"
            ]
          },
          "metadata": {},
          "execution_count": 16
        }
      ]
    },
    {
      "cell_type": "code",
      "source": [
        "#plotting bar graph by transaction type\n",
        "\n",
        "plt.bar(fraud_percentage_by_type.index,fraud_percentage_by_type.values)\n",
        "plt.xlabel(\"Transaction Type\")\n",
        "plt.ylabel(\"Fraud Percantage\")\n",
        "plt.title(\"Fraud percentage by Transaction Type Graph\")\n",
        "plt.show()"
      ],
      "metadata": {
        "colab": {
          "base_uri": "https://localhost:8080/",
          "height": 472
        },
        "id": "CsVScdIW9D0i",
        "outputId": "12c957f2-1187-4b1b-9750-4749cfeff611"
      },
      "execution_count": 17,
      "outputs": [
        {
          "output_type": "display_data",
          "data": {
            "text/plain": [
              "<Figure size 640x480 with 1 Axes>"
            ],
            "image/png": "[encoded data removed]"
          },
          "metadata": {}
        }
      ]
    },
    {
      "cell_type": "code",
      "source": [
        "#Removing entries in which there is no fraud\n",
        "\n",
        "data = df.loc[df['type'].isin(['CASH_OUT', 'TRANSFER'])]\n",
        "print('The new data now has ', len(data), ' transactions.')"
      ],
      "metadata": {
        "colab": {
          "base_uri": "https://localhost:8080/"
        },
        "id": "UIisFxRL-l1J",
        "outputId": "ca283a91-aea7-4156-b1f5-3c365ffb248e"
      },
      "execution_count": 21,
      "outputs": [
        {
          "output_type": "stream",
          "name": "stdout",
          "text": [
            "The new data now has  12612  transactions.\n"
          ]
        }
      ]
    },
    {
      "cell_type": "code",
      "source": [
        "print('Number of transactions where the transaction amount is negative: ' + str(sum(data['amount'] < 0)))\n"
      ],
      "metadata": {
        "colab": {
          "base_uri": "https://localhost:8080/"
        },
        "id": "weDdUMbi_2tU",
        "outputId": "dcd01fe0-ef39-477d-98c2-58653ede3838"
      },
      "execution_count": 22,
      "outputs": [
        {
          "output_type": "stream",
          "name": "stdout",
          "text": [
            "Number of transactions where the transaction amount is negative: 0\n"
          ]
        }
      ]
    },
    {
      "cell_type": "code",
      "source": [
        "print('Number of transactions where the transaction amount is equal to zero: ' +\n",
        "str(sum(data['amount'] == 0)))"
      ],
      "metadata": {
        "colab": {
          "base_uri": "https://localhost:8080/"
        },
        "id": "IktMlC3M_-dp",
        "outputId": "fe925d20-cb06-464b-d13b-4e68fd24044c"
      },
      "execution_count": 23,
      "outputs": [
        {
          "output_type": "stream",
          "name": "stdout",
          "text": [
            "Number of transactions where the transaction amount is equal to zero: 16\n"
          ]
        }
      ]
    },
    {
      "cell_type": "code",
      "source": [
        "import matplotlib.pyplot as plt\n",
        "\n",
        "# Calculate the number of transactions where the originator's initial balance is 0\n",
        "no_Ofzero = sum(data['oldbalanceOrg'] == 0)\n",
        "\n",
        "# Total number of transactions\n",
        "total = len(data['oldbalanceOrg'])\n",
        "\n",
        "# Calculate the percentage\n",
        "percentage = (no_Ofzero / total) * 100\n",
        "\n",
        "print(f\"Percentage of transactions where originator's initial balance is 0: {percentage:.2f}%\")\n",
        "\n",
        "# Pie chart\n",
        "labels = ['Initial Balance 0', 'Initial Balance Not 0']\n",
        "sizes = [percentage, 100 - percentage]\n",
        "colors = ['gold', 'lightskyblue']\n",
        "explode = (0.1, 0)  # explode the 1st slice\n",
        "\n",
        "plt.pie(sizes, explode=explode, labels=labels, colors=colors, autopct='%1.1f%%')\n",
        "plt.axis('equal')  # Equal aspect ratio ensures that pie is drawn as a circle.\n",
        "plt.title(\"Percentage of Transactions where originator's Initial Balance 0\")\n",
        "plt.show()\n"
      ],
      "metadata": {
        "colab": {
          "base_uri": "https://localhost:8080/",
          "height": 445
        },
        "id": "P4nax-3SABcl",
        "outputId": "a219a053-2cdc-48ec-f0eb-8877f44247de"
      },
      "execution_count": 28,
      "outputs": [
        {
          "output_type": "stream",
          "name": "stdout",
          "text": [
            "Percentage of transactions where originator's initial balance is 0: 16.60%\n"
          ]
        },
        {
          "output_type": "display_data",
          "data": {
            "text/plain": [
              "<Figure size 640x480 with 1 Axes>"
            ],
            "image/png": "[encoded data removed]"
          },
          "metadata": {}
        }
      ]
    },
    {
      "cell_type": "code",
      "source": [
        "import matplotlib.pyplot as plt\n",
        "\n",
        "# Calculate the number of transactions where the Destination's Final balance is 0\n",
        "no_Ofzero = sum(data['newbalanceDest'] == 0)\n",
        "\n",
        "# Total number of transactions\n",
        "total = len(data['newbalanceDest'])\n",
        "\n",
        "# Calculate the percentage\n",
        "percentage = (no_Ofzero / total) * 100\n",
        "\n",
        "print(f\"Percentage of transactions where Destination's Final balance is 0: {percentage:.2f}%\")\n",
        "\n",
        "# Pie chart\n",
        "labels = ['Final Balance 0', 'Final Balance Not 0']\n",
        "sizes = [percentage, 100 - percentage]\n",
        "colors = ['gold', 'lightskyblue']\n",
        "explode = (0.1, 0)  # explode the 1st slice\n",
        "\n",
        "plt.pie(sizes, explode=explode, labels=labels, colors=colors, autopct='%1.1f%%')\n",
        "plt.axis('equal')  # Equal aspect ratio ensures that pie is drawn as a circle.\n",
        "plt.title(\"Percentage of Transactions where destination's final Balance 0\")\n",
        "plt.show()"
      ],
      "metadata": {
        "colab": {
          "base_uri": "https://localhost:8080/",
          "height": 445
        },
        "id": "5LrKiG98Af1l",
        "outputId": "e23ef5fa-d0dc-44c4-8f9c-ca41fa1ffd5c"
      },
      "execution_count": 27,
      "outputs": [
        {
          "output_type": "stream",
          "name": "stdout",
          "text": [
            "Percentage of transactions where Destination's Final balance is 0: 32.56%\n"
          ]
        },
        {
          "output_type": "display_data",
          "data": {
            "text/plain": [
              "<Figure size 640x480 with 1 Axes>"
            ],
            "image/png": "[encoded data removed]"
          },
          "metadata": {}
        }
      ]
    },
    {
      "cell_type": "code",
      "source": [
        "#Percentage of Fraudulent Transactions where initial balance of originator is 0\n",
        "#for fraudulant data\n",
        "# Count the total number of fraudulent transactions\n",
        "fraud_count = sum(data['isFraud'] == 1)\n",
        "\n",
        "# Count the number of fraudulent transactions where the initial balance of the originator is 0\n",
        "value_count = sum((data['isFraud'] == 1) & (data['oldbalanceOrg'] == 0))\n",
        "\n",
        "# Calculate the percentage\n",
        "percentage = (value_count / fraud_count) * 100\n",
        "print(fraud_count)\n",
        "print(value_count)\n",
        "print(f\"percentage of fraudulent transactions where initial balance of originator is 0: {percentage:.2f}\")\n",
        "\n",
        "labels = [\"Initial Balance Not 0\", \"Initial Balance 0\"]\n",
        "sizes = [100 - percentage, percentage]\n",
        "colors = ['lightskyblue', 'gold']\n",
        "explode = (0, 0.1)  # Explode the \"Initial Balance 0\" slice\n",
        "\n",
        "# Create pie plot\n",
        "plt.pie(sizes, explode=explode, labels=labels, colors=colors,\n",
        "        autopct='%1.1f%%')\n",
        "\n",
        "plt.axis('equal')  # Equal aspect ratio ensures the pie is drawn as a circle.\n",
        "plt.title(\"Percentage of Fraudulent Transactions where initial balance of originator is 0\")\n",
        "\n",
        "# Display the plot\n",
        "plt.show()\n"
      ],
      "metadata": {
        "colab": {
          "base_uri": "https://localhost:8080/",
          "height": 480
        },
        "id": "Uucl2zmIBtN0",
        "outputId": "cf2d6bcc-fab2-410a-bacb-b7604aa6e4a9"
      },
      "execution_count": 33,
      "outputs": [
        {
          "output_type": "stream",
          "name": "stdout",
          "text": [
            "8213\n",
            "41\n",
            "percentage of fraudulent transactions where initial balance of originator is 0: 0.50\n"
          ]
        },
        {
          "output_type": "display_data",
          "data": {
            "text/plain": [
              "<Figure size 640x480 with 1 Axes>"
            ],
            "image/png": "[encoded data removed]"
          },
          "metadata": {}
        }
      ]
    },
    {
      "cell_type": "code",
      "source": [
        "# Count the total number of non-fraudulent transactions\n",
        "non_fraud_count = sum(data['isFraud'] == 0)\n",
        "print(non_fraud_count)\n",
        "\n",
        "# Count the number of non-fraudulent transactions where the initial balance of the originator is 0\n",
        "value_count = sum((data['isFraud'] == 0) & (data['oldbalanceOrg'] == 0))\n",
        "print(value_count)\n",
        "\n",
        "# Calculate the percentage\n",
        "percentage = (value_count / non_fraud_count) * 100\n",
        "\n",
        "\n",
        "print(f\"percentage of non-fraudulent transactions where initial balance of originator is 0: {percentage:.2f}\")\n",
        "\n",
        "labels = [\"Initial Balance Not 0\", \"Initial Balance 0\"]\n",
        "sizes = [100 - percentage, percentage]\n",
        "colors = ['lightskyblue', 'gold']\n",
        "explode = (0, 0.1)  # Explode the \"Initial Balance 0\" slice\n",
        "\n",
        "# Create pie plot\n",
        "plt.pie(sizes, explode=explode, labels=labels, colors=colors,autopct='%1.1f%%')\n",
        "\n",
        "plt.axis('equal')  # Equal aspect ratio ensures the pie is drawn as a circle.\n",
        "plt.title(\"Percentage of Non-Fraudulent Transactions where initial balance of originator is 0\")\n",
        "\n",
        "# Display the plot\n",
        "plt.show()\n",
        ""
      ],
      "metadata": {
        "colab": {
          "base_uri": "https://localhost:8080/",
          "height": 486
        },
        "id": "YPwfpRXVBwXs",
        "outputId": "6c612554-fe72-457f-bbad-3b2024b32b18"
      },
      "execution_count": 34,
      "outputs": [
        {
          "output_type": "stream",
          "name": "stdout",
          "text": [
            "4399\n",
            "2053\n",
            "percentage of non-fraudulent transactions where initial balance of originator is 0: 46.67\n"
          ]
        },
        {
          "output_type": "display_data",
          "data": {
            "text/plain": [
              "<Figure size 640x480 with 1 Axes>"
            ],
            "image/png": "[encoded data removed]"
          },
          "metadata": {}
        }
      ]
    },
    {
      "cell_type": "code",
      "source": [
        "#Drop 'nameOrig', 'nameDest','isFraud','step' columns\n",
        "data1 = data.drop(['nameOrig', 'nameDest','step'], axis=1)\n",
        "print(data1.head())\n",
        "len(data1)"
      ],
      "metadata": {
        "colab": {
          "base_uri": "https://localhost:8080/"
        },
        "id": "-tR271lmC6_n",
        "outputId": "4da52363-8437-4b29-d672-8874551d02f2"
      },
      "execution_count": 36,
      "outputs": [
        {
          "output_type": "stream",
          "name": "stdout",
          "text": [
            "   ID      type       amount  oldbalanceOrg  newbalanceOrig  oldbalanceDest  \\\n",
            "0   1  TRANSFER    321307.31      321307.31            0.00            0.00   \n",
            "1   2  TRANSFER  10000000.00    27670038.08     17670038.08            0.00   \n",
            "2   3  CASH_OUT     94684.22           0.00            0.00       100443.55   \n",
            "3   4  CASH_OUT     61572.27      416524.00       354951.73       126019.53   \n",
            "4   5  TRANSFER    682901.78           0.00            0.00       748928.26   \n",
            "\n",
            "   newbalanceDest  isFraud  \n",
            "0            0.00        1  \n",
            "1            0.00        1  \n",
            "2       195127.77        0  \n",
            "3       187591.80        0  \n",
            "4      1431830.04        0  \n"
          ]
        },
        {
          "output_type": "execute_result",
          "data": {
            "text/plain": [
              "12612"
            ]
          },
          "metadata": {},
          "execution_count": 36
        }
      ]
    },
    {
      "cell_type": "code",
      "source": [
        "#Data splitting process\n",
        "\n",
        "from sklearn.model_selection import train_test_split\n",
        "train_data,test_data=train_test_split(data1,test_size=0.3,random_state=21)\n",
        "print(\"len of train data\",len(train_data))\n",
        "print(\"len of test data\",len(test_data))"
      ],
      "metadata": {
        "colab": {
          "base_uri": "https://localhost:8080/"
        },
        "id": "_qoe-94mDBd0",
        "outputId": "83d68186-997b-408e-8be4-456872849c99"
      },
      "execution_count": 37,
      "outputs": [
        {
          "output_type": "stream",
          "name": "stdout",
          "text": [
            "len of train data 8828\n",
            "len of test data 3784\n"
          ]
        }
      ]
    },
    {
      "cell_type": "code",
      "source": [
        "print(train_data.shape,test_data.shape)"
      ],
      "metadata": {
        "colab": {
          "base_uri": "https://localhost:8080/"
        },
        "id": "LTmODPwSDVBF",
        "outputId": "82c16ce9-ed48-400d-d723-a2e6b9ea156e"
      },
      "execution_count": 38,
      "outputs": [
        {
          "output_type": "stream",
          "name": "stdout",
          "text": [
            "(8828, 8) (3784, 8)\n"
          ]
        }
      ]
    },
    {
      "cell_type": "code",
      "source": [
        "train_data.head()"
      ],
      "metadata": {
        "colab": {
          "base_uri": "https://localhost:8080/",
          "height": 206
        },
        "id": "_fgZABoFDcom",
        "outputId": "2d6d4409-e83e-4a50-9db0-4d492c192f65"
      },
      "execution_count": 39,
      "outputs": [
        {
          "output_type": "execute_result",
          "data": {
            "text/plain": [
              "        ID      type      amount  oldbalanceOrg  newbalanceOrig  \\\n",
              "7575  7576  CASH_OUT  1499869.54     1499869.54             0.0   \n",
              "3524  3525  CASH_OUT   332620.50           0.00             0.0   \n",
              "151    152  CASH_OUT   304239.63           0.00             0.0   \n",
              "9253  9254  CASH_OUT   219178.49      219178.49             0.0   \n",
              "4993  4994  CASH_OUT   100777.35       29628.00             0.0   \n",
              "\n",
              "      oldbalanceDest  newbalanceDest  isFraud  \n",
              "7575      9546574.32     11046443.85        1  \n",
              "3524       392571.85       725192.36        0  \n",
              "151       1354030.00      1658269.63        0  \n",
              "9253            0.00       219178.49        1  \n",
              "4993        50240.07       151017.42        0  "
            ],
            "text/html": [
              "\n",
              "  <div id=\"df-ab8e7a97-4dec-463f-83ab-b71ae1ea7f26\" class=\"colab-df-container\">\n",
              "    <div>\n",
              "<style scoped>\n",
              "    .dataframe tbody tr th:only-of-type {\n",
              "        vertical-align: middle;\n",
              "    }\n",
              "\n",
              "    .dataframe tbody tr th {\n",
              "        vertical-align: top;\n",
              "    }\n",
              "\n",
              "    .dataframe thead th {\n",
              "        text-align: right;\n",
              "    }\n",
              "</style>\n",
              "<table border=\"1\" class=\"dataframe\">\n",
              "  <thead>\n",
              "    <tr style=\"text-align: right;\">\n",
              "      <th></th>\n",
              "      <th>ID</th>\n",
              "      <th>type</th>\n",
              "      <th>amount</th>\n",
              "      <th>oldbalanceOrg</th>\n",
              "      <th>newbalanceOrig</th>\n",
              "      <th>oldbalanceDest</th>\n",
              "      <th>newbalanceDest</th>\n",
              "      <th>isFraud</th>\n",
              "    </tr>\n",
              "  </thead>\n",
              "  <tbody>\n",
              "    <tr>\n",
              "      <th>7575</th>\n",
              "      <td>7576</td>\n",
              "      <td>CASH_OUT</td>\n",
              "      <td>1499869.54</td>\n",
              "      <td>1499869.54</td>\n",
              "      <td>0.0</td>\n",
              "      <td>9546574.32</td>\n",
              "      <td>11046443.85</td>\n",
              "      <td>1</td>\n",
              "    </tr>\n",
              "    <tr>\n",
              "      <th>3524</th>\n",
              "      <td>3525</td>\n",
              "      <td>CASH_OUT</td>\n",
              "      <td>332620.50</td>\n",
              "      <td>0.00</td>\n",
              "      <td>0.0</td>\n",
              "      <td>392571.85</td>\n",
              "      <td>725192.36</td>\n",
              "      <td>0</td>\n",
              "    </tr>\n",
              "    <tr>\n",
              "      <th>151</th>\n",
              "      <td>152</td>\n",
              "      <td>CASH_OUT</td>\n",
              "      <td>304239.63</td>\n",
              "      <td>0.00</td>\n",
              "      <td>0.0</td>\n",
              "      <td>1354030.00</td>\n",
              "      <td>1658269.63</td>\n",
              "      <td>0</td>\n",
              "    </tr>\n",
              "    <tr>\n",
              "      <th>9253</th>\n",
              "      <td>9254</td>\n",
              "      <td>CASH_OUT</td>\n",
              "      <td>219178.49</td>\n",
              "      <td>219178.49</td>\n",
              "      <td>0.0</td>\n",
              "      <td>0.00</td>\n",
              "      <td>219178.49</td>\n",
              "      <td>1</td>\n",
              "    </tr>\n",
              "    <tr>\n",
              "      <th>4993</th>\n",
              "      <td>4994</td>\n",
              "      <td>CASH_OUT</td>\n",
              "      <td>100777.35</td>\n",
              "      <td>29628.00</td>\n",
              "      <td>0.0</td>\n",
              "      <td>50240.07</td>\n",
              "      <td>151017.42</td>\n",
              "      <td>0</td>\n",
              "    </tr>\n",
              "  </tbody>\n",
              "</table>\n",
              "</div>\n",
              "    <div class=\"colab-df-buttons\">\n",
              "\n",
              "  <div class=\"colab-df-container\">\n",
              "    <button class=\"colab-df-convert\" onclick=\"convertToInteractive('df-ab8e7a97-4dec-463f-83ab-b71ae1ea7f26')\"\n",
              "            title=\"Convert this dataframe to an interactive table.\"\n",
              "            style=\"display:none;\">\n",
              "\n",
              "  <svg xmlns=\"http://www.w3.org/2000/svg\" height=\"24px\" viewBox=\"0 -960 960 960\">\n",
              "    <path d=\"M120-120v-720h720v720H120Zm60-500h600v-160H180v160Zm220 220h160v-160H400v160Zm0 220h160v-160H400v160ZM180-400h160v-160H180v160Zm440 0h160v-160H620v160ZM180-180h160v-160H180v160Zm440 0h160v-160H620v160Z\"/>\n",
              "  </svg>\n",
              "    </button>\n",
              "\n",
              "  <style>\n",
              "    .colab-df-container {\n",
              "      display:flex;\n",
              "      gap: 12px;\n",
              "    }\n",
              "\n",
              "    .colab-df-convert {\n",
              "      background-color: #E8F0FE;\n",
              "      border: none;\n",
              "      border-radius: 50%;\n",
              "      cursor: pointer;\n",
              "      display: none;\n",
              "      fill: #1967D2;\n",
              "      height: 32px;\n",
              "      padding: 0 0 0 0;\n",
              "      width: 32px;\n",
              "    }\n",
              "\n",
              "    .colab-df-convert:hover {\n",
              "      background-color: #E2EBFA;\n",
              "      box-shadow: 0px 1px 2px rgba(60, 64, 67, 0.3), 0px 1px 3px 1px rgba(60, 64, 67, 0.15);\n",
              "      fill: #174EA6;\n",
              "    }\n",
              "\n",
              "    .colab-df-buttons div {\n",
              "      margin-bottom: 4px;\n",
              "    }\n",
              "\n",
              "    [theme=dark] .colab-df-convert {\n",
              "      background-color: #3B4455;\n",
              "      fill: #D2E3FC;\n",
              "    }\n",
              "\n",
              "    [theme=dark] .colab-df-convert:hover {\n",
              "      background-color: #434B5C;\n",
              "      box-shadow: 0px 1px 3px 1px rgba(0, 0, 0, 0.15);\n",
              "      filter: drop-shadow(0px 1px 2px rgba(0, 0, 0, 0.3));\n",
              "      fill: #FFFFFF;\n",
              "    }\n",
              "  </style>\n",
              "\n",
              "    <script>\n",
              "      const buttonEl =\n",
              "        document.querySelector('#df-ab8e7a97-4dec-463f-83ab-b71ae1ea7f26 button.colab-df-convert');\n",
              "      buttonEl.style.display =\n",
              "        google.colab.kernel.accessAllowed ? 'block' : 'none';\n",
              "\n",
              "      async function convertToInteractive(key) {\n",
              "        const element = document.querySelector('#df-ab8e7a97-4dec-463f-83ab-b71ae1ea7f26');\n",
              "        const dataTable =\n",
              "          await google.colab.kernel.invokeFunction('convertToInteractive',\n",
              "                                                    [key], {});\n",
              "        if (!dataTable) return;\n",
              "\n",
              "        const docLinkHtml = 'Like what you see? Visit the ' +\n",
              "          '<a target=\"_blank\" href=https://colab.research.google.com/notebooks/data_table.ipynb>data table notebook</a>'\n",
              "          + ' to learn more about interactive tables.';\n",
              "        element.innerHTML = '';\n",
              "        dataTable['output_type'] = 'display_data';\n",
              "        await google.colab.output.renderOutput(dataTable, element);\n",
              "        const docLink = document.createElement('div');\n",
              "        docLink.innerHTML = docLinkHtml;\n",
              "        element.appendChild(docLink);\n",
              "      }\n",
              "    </script>\n",
              "  </div>\n",
              "\n",
              "\n",
              "<div id=\"df-83fed3d6-5eae-4094-882d-63f9100f065f\">\n",
              "  <button class=\"colab-df-quickchart\" onclick=\"quickchart('df-83fed3d6-5eae-4094-882d-63f9100f065f')\"\n",
              "            title=\"Suggest charts\"\n",
              "            style=\"display:none;\">\n",
              "\n",
              "<svg xmlns=\"http://www.w3.org/2000/svg\" height=\"24px\"viewBox=\"0 0 24 24\"\n",
              "     width=\"24px\">\n",
              "    <g>\n",
              "        <path d=\"M19 3H5c-1.1 0-2 .9-2 2v14c0 1.1.9 2 2 2h14c1.1 0 2-.9 2-2V5c0-1.1-.9-2-2-2zM9 17H7v-7h2v7zm4 0h-2V7h2v10zm4 0h-2v-4h2v4z\"/>\n",
              "    </g>\n",
              "</svg>\n",
              "  </button>\n",
              "\n",
              "<style>\n",
              "  .colab-df-quickchart {\n",
              "      --bg-color: #E8F0FE;\n",
              "      --fill-color: #1967D2;\n",
              "      --hover-bg-color: #E2EBFA;\n",
              "      --hover-fill-color: #174EA6;\n",
              "      --disabled-fill-color: #AAA;\n",
              "      --disabled-bg-color: #DDD;\n",
              "  }\n",
              "\n",
              "  [theme=dark] .colab-df-quickchart {\n",
              "      --bg-color: #3B4455;\n",
              "      --fill-color: #D2E3FC;\n",
              "      --hover-bg-color: #434B5C;\n",
              "      --hover-fill-color: #FFFFFF;\n",
              "      --disabled-bg-color: #3B4455;\n",
              "      --disabled-fill-color: #666;\n",
              "  }\n",
              "\n",
              "  .colab-df-quickchart {\n",
              "    background-color: var(--bg-color);\n",
              "    border: none;\n",
              "    border-radius: 50%;\n",
              "    cursor: pointer;\n",
              "    display: none;\n",
              "    fill: var(--fill-color);\n",
              "    height: 32px;\n",
              "    padding: 0;\n",
              "    width: 32px;\n",
              "  }\n",
              "\n",
              "  .colab-df-quickchart:hover {\n",
              "    background-color: var(--hover-bg-color);\n",
              "    box-shadow: 0 1px 2px rgba(60, 64, 67, 0.3), 0 1px 3px 1px rgba(60, 64, 67, 0.15);\n",
              "    fill: var(--button-hover-fill-color);\n",
              "  }\n",
              "\n",
              "  .colab-df-quickchart-complete:disabled,\n",
              "  .colab-df-quickchart-complete:disabled:hover {\n",
              "    background-color: var(--disabled-bg-color);\n",
              "    fill: var(--disabled-fill-color);\n",
              "    box-shadow: none;\n",
              "  }\n",
              "\n",
              "  .colab-df-spinner {\n",
              "    border: 2px solid var(--fill-color);\n",
              "    border-color: transparent;\n",
              "    border-bottom-color: var(--fill-color);\n",
              "    animation:\n",
              "      spin 1s steps(1) infinite;\n",
              "  }\n",
              "\n",
              "  @keyframes spin {\n",
              "    0% {\n",
              "      border-color: transparent;\n",
              "      border-bottom-color: var(--fill-color);\n",
              "      border-left-color: var(--fill-color);\n",
              "    }\n",
              "    20% {\n",
              "      border-color: transparent;\n",
              "      border-left-color: var(--fill-color);\n",
              "      border-top-color: var(--fill-color);\n",
              "    }\n",
              "    30% {\n",
              "      border-color: transparent;\n",
              "      border-left-color: var(--fill-color);\n",
              "      border-top-color: var(--fill-color);\n",
              "      border-right-color: var(--fill-color);\n",
              "    }\n",
              "    40% {\n",
              "      border-color: transparent;\n",
              "      border-right-color: var(--fill-color);\n",
              "      border-top-color: var(--fill-color);\n",
              "    }\n",
              "    60% {\n",
              "      border-color: transparent;\n",
              "      border-right-color: var(--fill-color);\n",
              "    }\n",
              "    80% {\n",
              "      border-color: transparent;\n",
              "      border-right-color: var(--fill-color);\n",
              "      border-bottom-color: var(--fill-color);\n",
              "    }\n",
              "    90% {\n",
              "      border-color: transparent;\n",
              "      border-bottom-color: var(--fill-color);\n",
              "    }\n",
              "  }\n",
              "</style>\n",
              "\n",
              "  <script>\n",
              "    async function quickchart(key) {\n",
              "      const quickchartButtonEl =\n",
              "        document.querySelector('#' + key + ' button');\n",
              "      quickchartButtonEl.disabled = true;  // To prevent multiple clicks.\n",
              "      quickchartButtonEl.classList.add('colab-df-spinner');\n",
              "      try {\n",
              "        const charts = await google.colab.kernel.invokeFunction(\n",
              "            'suggestCharts', [key], {});\n",
              "      } catch (error) {\n",
              "        console.error('Error during call to suggestCharts:', error);\n",
              "      }\n",
              "      quickchartButtonEl.classList.remove('colab-df-spinner');\n",
              "      quickchartButtonEl.classList.add('colab-df-quickchart-complete');\n",
              "    }\n",
              "    (() => {\n",
              "      let quickchartButtonEl =\n",
              "        document.querySelector('#df-83fed3d6-5eae-4094-882d-63f9100f065f button');\n",
              "      quickchartButtonEl.style.display =\n",
              "        google.colab.kernel.accessAllowed ? 'block' : 'none';\n",
              "    })();\n",
              "  </script>\n",
              "</div>\n",
              "\n",
              "    </div>\n",
              "  </div>\n"
            ],
            "application/vnd.google.colaboratory.intrinsic+json": {
              "type": "dataframe",
              "variable_name": "train_data",
              "summary": "{\n  \"name\": \"train_data\",\n  \"rows\": 8828,\n  \"fields\": [\n    {\n      \"column\": \"ID\",\n      \"properties\": {\n        \"dtype\": \"number\",\n        \"std\": 5238,\n        \"min\": 2,\n        \"max\": 18213,\n        \"num_unique_values\": 8828,\n        \"samples\": [\n          13185,\n          12863,\n          4932\n        ],\n        \"semantic_type\": \"\",\n        \"description\": \"\"\n      }\n    },\n    {\n      \"column\": \"type\",\n      \"properties\": {\n        \"dtype\": \"category\",\n        \"num_unique_values\": 2,\n        \"samples\": [\n          \"TRANSFER\",\n          \"CASH_OUT\"\n        ],\n        \"semantic_type\": \"\",\n        \"description\": \"\"\n      }\n    },\n    {\n      \"column\": \"amount\",\n      \"properties\": {\n        \"dtype\": \"number\",\n        \"std\": 2067383.4206582354,\n        \"min\": 0.0,\n        \"max\": 25799907.86,\n        \"num_unique_values\": 6719,\n        \"samples\": [\n          173090.75,\n          107351.33\n        ],\n        \"semantic_type\": \"\",\n        \"description\": \"\"\n      }\n    },\n    {\n      \"column\": \"oldbalanceOrg\",\n      \"properties\": {\n        \"dtype\": \"number\",\n        \"std\": 2965666.0978713688,\n        \"min\": 0.0,\n        \"max\": 59585040.37,\n        \"num_unique_values\": 5314,\n        \"samples\": [\n          51574.0,\n          10510.0\n        ],\n        \"semantic_type\": \"\",\n        \"description\": \"\"\n      }\n    },\n    {\n      \"column\": \"newbalanceOrig\",\n      \"properties\": {\n        \"dtype\": \"number\",\n        \"std\": 1619162.4052776773,\n        \"min\": 0.0,\n        \"max\": 49585040.37,\n        \"num_unique_values\": 382,\n        \"samples\": [\n          9593838.63,\n          58075.42\n        ],\n        \"semantic_type\": \"\",\n        \"description\": \"\"\n      }\n    },\n    {\n      \"column\": \"oldbalanceDest\",\n      \"properties\": {\n        \"dtype\": \"number\",\n        \"std\": 2962336.6318228804,\n        \"min\": 0.0,\n        \"max\": 102026697.6,\n        \"num_unique_values\": 4660,\n        \"samples\": [\n          13038328.85,\n          27224.26\n        ],\n        \"semantic_type\": \"\",\n        \"description\": \"\"\n      }\n    },\n    {\n      \"column\": \"newbalanceDest\",\n      \"properties\": {\n        \"dtype\": \"number\",\n        \"std\": 3563963.309213338,\n        \"min\": 0.0,\n        \"max\": 102774718.1,\n        \"num_unique_values\": 5936,\n        \"samples\": [\n          952893.83,\n          113885.3\n        ],\n        \"semantic_type\": \"\",\n        \"description\": \"\"\n      }\n    },\n    {\n      \"column\": \"isFraud\",\n      \"properties\": {\n        \"dtype\": \"number\",\n        \"std\": 0,\n        \"min\": 0,\n        \"max\": 1,\n        \"num_unique_values\": 2,\n        \"samples\": [\n          0,\n          1\n        ],\n        \"semantic_type\": \"\",\n        \"description\": \"\"\n      }\n    }\n  ]\n}"
            }
          },
          "metadata": {},
          "execution_count": 39
        }
      ]
    },
    {
      "cell_type": "code",
      "source": [
        "test_data.head()"
      ],
      "metadata": {
        "colab": {
          "base_uri": "https://localhost:8080/",
          "height": 206
        },
        "id": "1XDI70HHDgnV",
        "outputId": "fc0a308c-1861-4df0-8a22-63ce419390b0"
      },
      "execution_count": 40,
      "outputs": [
        {
          "output_type": "execute_result",
          "data": {
            "text/plain": [
              "          ID      type      amount  oldbalanceOrg  newbalanceOrig  \\\n",
              "16862  16863  TRANSFER  1547855.00           0.00             0.0   \n",
              "7092    7093  CASH_OUT    73946.79       73946.79             0.0   \n",
              "10675  10676  TRANSFER   178503.45      178503.45             0.0   \n",
              "9625    9626  CASH_OUT   424962.90      424962.90             0.0   \n",
              "9986    9987  TRANSFER    73486.80       73486.80             0.0   \n",
              "\n",
              "       oldbalanceDest  newbalanceDest  isFraud  \n",
              "16862      3836303.49      5384158.49        0  \n",
              "7092        518296.65       592243.44        1  \n",
              "10675            0.00            0.00        1  \n",
              "9625        322327.23       747290.13        1  \n",
              "9986             0.00            0.00        1  "
            ],
            "text/html": [
              "\n",
              "  <div id=\"df-ccb9334d-7d3a-437e-a8e8-da4a97de3f18\" class=\"colab-df-container\">\n",
              "    <div>\n",
              "<style scoped>\n",
              "    .dataframe tbody tr th:only-of-type {\n",
              "        vertical-align: middle;\n",
              "    }\n",
              "\n",
              "    .dataframe tbody tr th {\n",
              "        vertical-align: top;\n",
              "    }\n",
              "\n",
              "    .dataframe thead th {\n",
              "        text-align: right;\n",
              "    }\n",
              "</style>\n",
              "<table border=\"1\" class=\"dataframe\">\n",
              "  <thead>\n",
              "    <tr style=\"text-align: right;\">\n",
              "      <th></th>\n",
              "      <th>ID</th>\n",
              "      <th>type</th>\n",
              "      <th>amount</th>\n",
              "      <th>oldbalanceOrg</th>\n",
              "      <th>newbalanceOrig</th>\n",
              "      <th>oldbalanceDest</th>\n",
              "      <th>newbalanceDest</th>\n",
              "      <th>isFraud</th>\n",
              "    </tr>\n",
              "  </thead>\n",
              "  <tbody>\n",
              "    <tr>\n",
              "      <th>16862</th>\n",
              "      <td>16863</td>\n",
              "      <td>TRANSFER</td>\n",
              "      <td>1547855.00</td>\n",
              "      <td>0.00</td>\n",
              "      <td>0.0</td>\n",
              "      <td>3836303.49</td>\n",
              "      <td>5384158.49</td>\n",
              "      <td>0</td>\n",
              "    </tr>\n",
              "    <tr>\n",
              "      <th>7092</th>\n",
              "      <td>7093</td>\n",
              "      <td>CASH_OUT</td>\n",
              "      <td>73946.79</td>\n",
              "      <td>73946.79</td>\n",
              "      <td>0.0</td>\n",
              "      <td>518296.65</td>\n",
              "      <td>592243.44</td>\n",
              "      <td>1</td>\n",
              "    </tr>\n",
              "    <tr>\n",
              "      <th>10675</th>\n",
              "      <td>10676</td>\n",
              "      <td>TRANSFER</td>\n",
              "      <td>178503.45</td>\n",
              "      <td>178503.45</td>\n",
              "      <td>0.0</td>\n",
              "      <td>0.00</td>\n",
              "      <td>0.00</td>\n",
              "      <td>1</td>\n",
              "    </tr>\n",
              "    <tr>\n",
              "      <th>9625</th>\n",
              "      <td>9626</td>\n",
              "      <td>CASH_OUT</td>\n",
              "      <td>424962.90</td>\n",
              "      <td>424962.90</td>\n",
              "      <td>0.0</td>\n",
              "      <td>322327.23</td>\n",
              "      <td>747290.13</td>\n",
              "      <td>1</td>\n",
              "    </tr>\n",
              "    <tr>\n",
              "      <th>9986</th>\n",
              "      <td>9987</td>\n",
              "      <td>TRANSFER</td>\n",
              "      <td>73486.80</td>\n",
              "      <td>73486.80</td>\n",
              "      <td>0.0</td>\n",
              "      <td>0.00</td>\n",
              "      <td>0.00</td>\n",
              "      <td>1</td>\n",
              "    </tr>\n",
              "  </tbody>\n",
              "</table>\n",
              "</div>\n",
              "    <div class=\"colab-df-buttons\">\n",
              "\n",
              "  <div class=\"colab-df-container\">\n",
              "    <button class=\"colab-df-convert\" onclick=\"convertToInteractive('df-ccb9334d-7d3a-437e-a8e8-da4a97de3f18')\"\n",
              "            title=\"Convert this dataframe to an interactive table.\"\n",
              "            style=\"display:none;\">\n",
              "\n",
              "  <svg xmlns=\"http://www.w3.org/2000/svg\" height=\"24px\" viewBox=\"0 -960 960 960\">\n",
              "    <path d=\"M120-120v-720h720v720H120Zm60-500h600v-160H180v160Zm220 220h160v-160H400v160Zm0 220h160v-160H400v160ZM180-400h160v-160H180v160Zm440 0h160v-160H620v160ZM180-180h160v-160H180v160Zm440 0h160v-160H620v160Z\"/>\n",
              "  </svg>\n",
              "    </button>\n",
              "\n",
              "  <style>\n",
              "    .colab-df-container {\n",
              "      display:flex;\n",
              "      gap: 12px;\n",
              "    }\n",
              "\n",
              "    .colab-df-convert {\n",
              "      background-color: #E8F0FE;\n",
              "      border: none;\n",
              "      border-radius: 50%;\n",
              "      cursor: pointer;\n",
              "      display: none;\n",
              "      fill: #1967D2;\n",
              "      height: 32px;\n",
              "      padding: 0 0 0 0;\n",
              "      width: 32px;\n",
              "    }\n",
              "\n",
              "    .colab-df-convert:hover {\n",
              "      background-color: #E2EBFA;\n",
              "      box-shadow: 0px 1px 2px rgba(60, 64, 67, 0.3), 0px 1px 3px 1px rgba(60, 64, 67, 0.15);\n",
              "      fill: #174EA6;\n",
              "    }\n",
              "\n",
              "    .colab-df-buttons div {\n",
              "      margin-bottom: 4px;\n",
              "    }\n",
              "\n",
              "    [theme=dark] .colab-df-convert {\n",
              "      background-color: #3B4455;\n",
              "      fill: #D2E3FC;\n",
              "    }\n",
              "\n",
              "    [theme=dark] .colab-df-convert:hover {\n",
              "      background-color: #434B5C;\n",
              "      box-shadow: 0px 1px 3px 1px rgba(0, 0, 0, 0.15);\n",
              "      filter: drop-shadow(0px 1px 2px rgba(0, 0, 0, 0.3));\n",
              "      fill: #FFFFFF;\n",
              "    }\n",
              "  </style>\n",
              "\n",
              "    <script>\n",
              "      const buttonEl =\n",
              "        document.querySelector('#df-ccb9334d-7d3a-437e-a8e8-da4a97de3f18 button.colab-df-convert');\n",
              "      buttonEl.style.display =\n",
              "        google.colab.kernel.accessAllowed ? 'block' : 'none';\n",
              "\n",
              "      async function convertToInteractive(key) {\n",
              "        const element = document.querySelector('#df-ccb9334d-7d3a-437e-a8e8-da4a97de3f18');\n",
              "        const dataTable =\n",
              "          await google.colab.kernel.invokeFunction('convertToInteractive',\n",
              "                                                    [key], {});\n",
              "        if (!dataTable) return;\n",
              "\n",
              "        const docLinkHtml = 'Like what you see? Visit the ' +\n",
              "          '<a target=\"_blank\" href=https://colab.research.google.com/notebooks/data_table.ipynb>data table notebook</a>'\n",
              "          + ' to learn more about interactive tables.';\n",
              "        element.innerHTML = '';\n",
              "        dataTable['output_type'] = 'display_data';\n",
              "        await google.colab.output.renderOutput(dataTable, element);\n",
              "        const docLink = document.createElement('div');\n",
              "        docLink.innerHTML = docLinkHtml;\n",
              "        element.appendChild(docLink);\n",
              "      }\n",
              "    </script>\n",
              "  </div>\n",
              "\n",
              "\n",
              "<div id=\"df-9b5e4b30-e3f9-4159-b836-f150cb7c98d7\">\n",
              "  <button class=\"colab-df-quickchart\" onclick=\"quickchart('df-9b5e4b30-e3f9-4159-b836-f150cb7c98d7')\"\n",
              "            title=\"Suggest charts\"\n",
              "            style=\"display:none;\">\n",
              "\n",
              "<svg xmlns=\"http://www.w3.org/2000/svg\" height=\"24px\"viewBox=\"0 0 24 24\"\n",
              "     width=\"24px\">\n",
              "    <g>\n",
              "        <path d=\"M19 3H5c-1.1 0-2 .9-2 2v14c0 1.1.9 2 2 2h14c1.1 0 2-.9 2-2V5c0-1.1-.9-2-2-2zM9 17H7v-7h2v7zm4 0h-2V7h2v10zm4 0h-2v-4h2v4z\"/>\n",
              "    </g>\n",
              "</svg>\n",
              "  </button>\n",
              "\n",
              "<style>\n",
              "  .colab-df-quickchart {\n",
              "      --bg-color: #E8F0FE;\n",
              "      --fill-color: #1967D2;\n",
              "      --hover-bg-color: #E2EBFA;\n",
              "      --hover-fill-color: #174EA6;\n",
              "      --disabled-fill-color: #AAA;\n",
              "      --disabled-bg-color: #DDD;\n",
              "  }\n",
              "\n",
              "  [theme=dark] .colab-df-quickchart {\n",
              "      --bg-color: #3B4455;\n",
              "      --fill-color: #D2E3FC;\n",
              "      --hover-bg-color: #434B5C;\n",
              "      --hover-fill-color: #FFFFFF;\n",
              "      --disabled-bg-color: #3B4455;\n",
              "      --disabled-fill-color: #666;\n",
              "  }\n",
              "\n",
              "  .colab-df-quickchart {\n",
              "    background-color: var(--bg-color);\n",
              "    border: none;\n",
              "    border-radius: 50%;\n",
              "    cursor: pointer;\n",
              "    display: none;\n",
              "    fill: var(--fill-color);\n",
              "    height: 32px;\n",
              "    padding: 0;\n",
              "    width: 32px;\n",
              "  }\n",
              "\n",
              "  .colab-df-quickchart:hover {\n",
              "    background-color: var(--hover-bg-color);\n",
              "    box-shadow: 0 1px 2px rgba(60, 64, 67, 0.3), 0 1px 3px 1px rgba(60, 64, 67, 0.15);\n",
              "    fill: var(--button-hover-fill-color);\n",
              "  }\n",
              "\n",
              "  .colab-df-quickchart-complete:disabled,\n",
              "  .colab-df-quickchart-complete:disabled:hover {\n",
              "    background-color: var(--disabled-bg-color);\n",
              "    fill: var(--disabled-fill-color);\n",
              "    box-shadow: none;\n",
              "  }\n",
              "\n",
              "  .colab-df-spinner {\n",
              "    border: 2px solid var(--fill-color);\n",
              "    border-color: transparent;\n",
              "    border-bottom-color: var(--fill-color);\n",
              "    animation:\n",
              "      spin 1s steps(1) infinite;\n",
              "  }\n",
              "\n",
              "  @keyframes spin {\n",
              "    0% {\n",
              "      border-color: transparent;\n",
              "      border-bottom-color: var(--fill-color);\n",
              "      border-left-color: var(--fill-color);\n",
              "    }\n",
              "    20% {\n",
              "      border-color: transparent;\n",
              "      border-left-color: var(--fill-color);\n",
              "      border-top-color: var(--fill-color);\n",
              "    }\n",
              "    30% {\n",
              "      border-color: transparent;\n",
              "      border-left-color: var(--fill-color);\n",
              "      border-top-color: var(--fill-color);\n",
              "      border-right-color: var(--fill-color);\n",
              "    }\n",
              "    40% {\n",
              "      border-color: transparent;\n",
              "      border-right-color: var(--fill-color);\n",
              "      border-top-color: var(--fill-color);\n",
              "    }\n",
              "    60% {\n",
              "      border-color: transparent;\n",
              "      border-right-color: var(--fill-color);\n",
              "    }\n",
              "    80% {\n",
              "      border-color: transparent;\n",
              "      border-right-color: var(--fill-color);\n",
              "      border-bottom-color: var(--fill-color);\n",
              "    }\n",
              "    90% {\n",
              "      border-color: transparent;\n",
              "      border-bottom-color: var(--fill-color);\n",
              "    }\n",
              "  }\n",
              "</style>\n",
              "\n",
              "  <script>\n",
              "    async function quickchart(key) {\n",
              "      const quickchartButtonEl =\n",
              "        document.querySelector('#' + key + ' button');\n",
              "      quickchartButtonEl.disabled = true;  // To prevent multiple clicks.\n",
              "      quickchartButtonEl.classList.add('colab-df-spinner');\n",
              "      try {\n",
              "        const charts = await google.colab.kernel.invokeFunction(\n",
              "            'suggestCharts', [key], {});\n",
              "      } catch (error) {\n",
              "        console.error('Error during call to suggestCharts:', error);\n",
              "      }\n",
              "      quickchartButtonEl.classList.remove('colab-df-spinner');\n",
              "      quickchartButtonEl.classList.add('colab-df-quickchart-complete');\n",
              "    }\n",
              "    (() => {\n",
              "      let quickchartButtonEl =\n",
              "        document.querySelector('#df-9b5e4b30-e3f9-4159-b836-f150cb7c98d7 button');\n",
              "      quickchartButtonEl.style.display =\n",
              "        google.colab.kernel.accessAllowed ? 'block' : 'none';\n",
              "    })();\n",
              "  </script>\n",
              "</div>\n",
              "\n",
              "    </div>\n",
              "  </div>\n"
            ],
            "application/vnd.google.colaboratory.intrinsic+json": {
              "type": "dataframe",
              "variable_name": "test_data",
              "summary": "{\n  \"name\": \"test_data\",\n  \"rows\": 3784,\n  \"fields\": [\n    {\n      \"column\": \"ID\",\n      \"properties\": {\n        \"dtype\": \"number\",\n        \"std\": 5330,\n        \"min\": 1,\n        \"max\": 18212,\n        \"num_unique_values\": 3784,\n        \"samples\": [\n          3981,\n          2683,\n          6799\n        ],\n        \"semantic_type\": \"\",\n        \"description\": \"\"\n      }\n    },\n    {\n      \"column\": \"type\",\n      \"properties\": {\n        \"dtype\": \"category\",\n        \"num_unique_values\": 2,\n        \"samples\": [\n          \"CASH_OUT\",\n          \"TRANSFER\"\n        ],\n        \"semantic_type\": \"\",\n        \"description\": \"\"\n      }\n    },\n    {\n      \"column\": \"amount\",\n      \"properties\": {\n        \"dtype\": \"number\",\n        \"std\": 2240877.727681999,\n        \"min\": 0.0,\n        \"max\": 51990860.85,\n        \"num_unique_values\": 3336,\n        \"samples\": [\n          456755.43,\n          776303.43\n        ],\n        \"semantic_type\": \"\",\n        \"description\": \"\"\n      }\n    },\n    {\n      \"column\": \"oldbalanceOrg\",\n      \"properties\": {\n        \"dtype\": \"number\",\n        \"std\": 2962538.966889749,\n        \"min\": 0.0,\n        \"max\": 50399045.08,\n        \"num_unique_values\": 2768,\n        \"samples\": [\n          366896.03,\n          1950022.93\n        ],\n        \"semantic_type\": \"\",\n        \"description\": \"\"\n      }\n    },\n    {\n      \"column\": \"newbalanceOrig\",\n      \"properties\": {\n        \"dtype\": \"number\",\n        \"std\": 1517583.3239797917,\n        \"min\": 0.0,\n        \"max\": 40399045.08,\n        \"num_unique_values\": 172,\n        \"samples\": [\n          61388.17,\n          78357.36\n        ],\n        \"semantic_type\": \"\",\n        \"description\": \"\"\n      }\n    },\n    {\n      \"column\": \"oldbalanceDest\",\n      \"properties\": {\n        \"dtype\": \"number\",\n        \"std\": 4835012.482861554,\n        \"min\": 0.0,\n        \"max\": 236230516.8,\n        \"num_unique_values\": 1964,\n        \"samples\": [\n          1322130.75,\n          167999.27\n        ],\n        \"semantic_type\": \"\",\n        \"description\": \"\"\n      }\n    },\n    {\n      \"column\": \"newbalanceDest\",\n      \"properties\": {\n        \"dtype\": \"number\",\n        \"std\": 5369766.465198237,\n        \"min\": 0.0,\n        \"max\": 236726494.7,\n        \"num_unique_values\": 2519,\n        \"samples\": [\n          1005364.51,\n          401611.54\n        ],\n        \"semantic_type\": \"\",\n        \"description\": \"\"\n      }\n    },\n    {\n      \"column\": \"isFraud\",\n      \"properties\": {\n        \"dtype\": \"number\",\n        \"std\": 0,\n        \"min\": 0,\n        \"max\": 1,\n        \"num_unique_values\": 2,\n        \"samples\": [\n          1,\n          0\n        ],\n        \"semantic_type\": \"\",\n        \"description\": \"\"\n      }\n    }\n  ]\n}"
            }
          },
          "metadata": {},
          "execution_count": 40
        }
      ]
    },
    {
      "cell_type": "code",
      "source": [
        "train_data.columns"
      ],
      "metadata": {
        "colab": {
          "base_uri": "https://localhost:8080/"
        },
        "id": "ERCwcV-dDiIB",
        "outputId": "ac42ded6-5a5f-436f-bbbe-3309e4c27c61"
      },
      "execution_count": 41,
      "outputs": [
        {
          "output_type": "execute_result",
          "data": {
            "text/plain": [
              "Index(['ID', 'type', 'amount', 'oldbalanceOrg', 'newbalanceOrig',\n",
              "       'oldbalanceDest', 'newbalanceDest', 'isFraud'],\n",
              "      dtype='object')"
            ]
          },
          "metadata": {},
          "execution_count": 41
        }
      ]
    },
    {
      "cell_type": "code",
      "source": [
        "#training data\n",
        "x_train=train_data.drop([\"isFraud\"],axis=1)\n",
        "y_train=train_data[\"isFraud\"]"
      ],
      "metadata": {
        "id": "XgyhnLzBDmRs"
      },
      "execution_count": 42,
      "outputs": []
    },
    {
      "cell_type": "code",
      "source": [
        "#testing data\n",
        "x_test=test_data.drop(\"isFraud\",axis=1)\n",
        "y_test=test_data[\"isFraud\"]"
      ],
      "metadata": {
        "id": "cLi0z_ZSD5Tx"
      },
      "execution_count": 43,
      "outputs": []
    },
    {
      "cell_type": "code",
      "source": [
        "print(y_train)\n",
        "print(type(y_train))"
      ],
      "metadata": {
        "colab": {
          "base_uri": "https://localhost:8080/"
        },
        "id": "a12OHaPWD8cd",
        "outputId": "1386d21a-d08b-4f8e-9fcd-1bbf1511aadd"
      },
      "execution_count": 45,
      "outputs": [
        {
          "output_type": "stream",
          "name": "stdout",
          "text": [
            "7575     1\n",
            "3524     0\n",
            "151      0\n",
            "9253     1\n",
            "4993     0\n",
            "        ..\n",
            "13550    1\n",
            "72       1\n",
            "13002    1\n",
            "8569     0\n",
            "7685     1\n",
            "Name: isFraud, Length: 8828, dtype: int64\n",
            "<class 'pandas.core.series.Series'>\n"
          ]
        }
      ]
    },
    {
      "cell_type": "code",
      "source": [
        "from sklearn.pipeline import Pipeline\n",
        "from sklearn.preprocessing import MinMaxScaler,OneHotEncoder\n",
        "\n",
        "#numerical features\n",
        "num_feats=x_train.drop(\"type\",axis=1)\n",
        "num_feats_pipe=Pipeline([\n",
        "    (\"scalar\",MinMaxScaler())\n",
        "    ])\n",
        "num_feats_preprocessed=num_feats_pipe.fit_transform(num_feats)\n",
        "\n",
        "#catagorical features\n",
        "cat_feats=x_train[[\"type\"]]\n",
        "cat_feats_pipe=Pipeline([\n",
        "    (\"encoder\",OneHotEncoder())\n",
        "    ])\n",
        "cat_feats_preprocessed=cat_feats_pipe.fit_transform(cat_feats)\n",
        "print(num_feats)"
      ],
      "metadata": {
        "colab": {
          "base_uri": "https://localhost:8080/"
        },
        "id": "HKjhUtldD9lO",
        "outputId": "18dc50f4-e15b-42fe-cd1e-d65a1ff3757b"
      },
      "execution_count": 46,
      "outputs": [
        {
          "output_type": "stream",
          "name": "stdout",
          "text": [
            "          ID      amount  oldbalanceOrg  newbalanceOrig  oldbalanceDest  \\\n",
            "7575    7576  1499869.54     1499869.54             0.0      9546574.32   \n",
            "3524    3525   332620.50           0.00             0.0       392571.85   \n",
            "151      152   304239.63           0.00             0.0      1354030.00   \n",
            "9253    9254   219178.49      219178.49             0.0            0.00   \n",
            "4993    4994   100777.35       29628.00             0.0        50240.07   \n",
            "...      ...         ...            ...             ...             ...   \n",
            "13550  13551   541486.74      541486.74             0.0            0.00   \n",
            "72        73     9131.00        9131.00             0.0            0.00   \n",
            "13002  13003   154196.49      154196.49             0.0            0.00   \n",
            "8569    8570   175725.71      107610.26             0.0       191559.79   \n",
            "7685    7686    64344.59       64344.59             0.0            0.00   \n",
            "\n",
            "       newbalanceDest  \n",
            "7575      11046443.85  \n",
            "3524        725192.36  \n",
            "151        1658269.63  \n",
            "9253        219178.49  \n",
            "4993        151017.42  \n",
            "...               ...  \n",
            "13550            0.00  \n",
            "72               0.00  \n",
            "13002            0.00  \n",
            "8569        367285.50  \n",
            "7685             0.00  \n",
            "\n",
            "[8828 rows x 6 columns]\n"
          ]
        }
      ]
    },
    {
      "cell_type": "code",
      "source": [
        "from sklearn.compose import ColumnTransformer\n",
        "num_list=list(num_feats)\n",
        "cat_list=list(cat_feats)\n",
        "\n",
        "final_pipeline=ColumnTransformer([\n",
        "    (\"num\",num_feats_pipe,num_list),\n",
        "    (\"cat\",cat_feats_pipe,cat_list)])\n",
        "X_train_preprocessed=final_pipeline.fit_transform(x_train)\n",
        "print(x_train)\n",
        "X_train_preprocessed\n",
        "\n",
        "X_test_preprocessed = final_pipeline.fit_transform(x_test)\n",
        "X_test_preprocessed"
      ],
      "metadata": {
        "colab": {
          "base_uri": "https://localhost:8080/"
        },
        "id": "wjs0kQ0YEEm2",
        "outputId": "dc4d9553-2f4b-46e3-d151-a3f5e783288d"
      },
      "execution_count": 47,
      "outputs": [
        {
          "output_type": "stream",
          "name": "stdout",
          "text": [
            "          ID      type      amount  oldbalanceOrg  newbalanceOrig  \\\n",
            "7575    7576  CASH_OUT  1499869.54     1499869.54             0.0   \n",
            "3524    3525  CASH_OUT   332620.50           0.00             0.0   \n",
            "151      152  CASH_OUT   304239.63           0.00             0.0   \n",
            "9253    9254  CASH_OUT   219178.49      219178.49             0.0   \n",
            "4993    4994  CASH_OUT   100777.35       29628.00             0.0   \n",
            "...      ...       ...         ...            ...             ...   \n",
            "13550  13551  TRANSFER   541486.74      541486.74             0.0   \n",
            "72        73  TRANSFER     9131.00        9131.00             0.0   \n",
            "13002  13003  TRANSFER   154196.49      154196.49             0.0   \n",
            "8569    8570  CASH_OUT   175725.71      107610.26             0.0   \n",
            "7685    7686  TRANSFER    64344.59       64344.59             0.0   \n",
            "\n",
            "       oldbalanceDest  newbalanceDest  \n",
            "7575       9546574.32     11046443.85  \n",
            "3524        392571.85       725192.36  \n",
            "151        1354030.00      1658269.63  \n",
            "9253             0.00       219178.49  \n",
            "4993         50240.07       151017.42  \n",
            "...               ...             ...  \n",
            "13550            0.00            0.00  \n",
            "72               0.00            0.00  \n",
            "13002            0.00            0.00  \n",
            "8569        191559.79       367285.50  \n",
            "7685             0.00            0.00  \n",
            "\n",
            "[8828 rows x 7 columns]\n"
          ]
        },
        {
          "output_type": "execute_result",
          "data": {
            "text/plain": [
              "array([[9.25923892e-01, 2.97716748e-02, 0.00000000e+00, ...,\n",
              "        2.27442158e-02, 0.00000000e+00, 1.00000000e+00],\n",
              "       [3.89434957e-01, 1.42230363e-03, 1.46722601e-03, ...,\n",
              "        2.50180463e-03, 1.00000000e+00, 0.00000000e+00],\n",
              "       [5.86184174e-01, 3.43336208e-03, 3.54180222e-03, ...,\n",
              "        0.00000000e+00, 0.00000000e+00, 1.00000000e+00],\n",
              "       ...,\n",
              "       [5.23694470e-01, 3.76627578e-03, 2.72763105e-04, ...,\n",
              "        6.85671645e-03, 1.00000000e+00, 0.00000000e+00],\n",
              "       [1.85821756e-01, 2.83185598e-03, 2.92129801e-03, ...,\n",
              "        6.21944029e-04, 1.00000000e+00, 0.00000000e+00],\n",
              "       [7.53445720e-01, 4.15459461e-03, 4.28581434e-03, ...,\n",
              "        0.00000000e+00, 0.00000000e+00, 1.00000000e+00]])"
            ]
          },
          "metadata": {},
          "execution_count": 47
        }
      ]
    },
    {
      "cell_type": "code",
      "source": [
        "#logistic regression\n",
        "\n",
        "from sklearn.linear_model import LogisticRegression\n",
        "model = LogisticRegression()"
      ],
      "metadata": {
        "id": "opD8JKZcEIut"
      },
      "execution_count": 48,
      "outputs": []
    },
    {
      "cell_type": "code",
      "source": [
        "log_model=model.fit(X_train_preprocessed,y_train)\n"
      ],
      "metadata": {
        "id": "qiqwaqV1EMLg"
      },
      "execution_count": 49,
      "outputs": []
    },
    {
      "cell_type": "code",
      "source": [
        "y_train_pred = log_model.predict(X_train_preprocessed)\n",
        "y_train_pred\n"
      ],
      "metadata": {
        "colab": {
          "base_uri": "https://localhost:8080/"
        },
        "id": "Jp0jDi1_ENVZ",
        "outputId": "24d4a6c9-ffc9-4944-b45d-6f0fdd78512d"
      },
      "execution_count": 50,
      "outputs": [
        {
          "output_type": "execute_result",
          "data": {
            "text/plain": [
              "array([0, 1, 0, ..., 1, 1, 1])"
            ]
          },
          "metadata": {},
          "execution_count": 50
        }
      ]
    },
    {
      "cell_type": "code",
      "source": [
        "y_test_pred=log_model.predict(X_test_preprocessed)\n",
        "y_test_pred"
      ],
      "metadata": {
        "colab": {
          "base_uri": "https://localhost:8080/"
        },
        "id": "F031qEp3EOwT",
        "outputId": "3d1e3aa4-974b-4838-d0b8-8e9b80c87ec5"
      },
      "execution_count": 51,
      "outputs": [
        {
          "output_type": "execute_result",
          "data": {
            "text/plain": [
              "array([1, 0, 1, ..., 0, 1, 1])"
            ]
          },
          "metadata": {},
          "execution_count": 51
        }
      ]
    },
    {
      "cell_type": "code",
      "source": [
        "#Train Confusion Matrix\n",
        "from sklearn.metrics import confusion_matrix\n",
        "\n",
        "# Compute the confusion matrix\n",
        "cm = confusion_matrix(y_train, y_train_pred)\n",
        "\n",
        "# Create a heatmap to visualize the confusion matrix\n",
        "plt.figure(figsize=(6, 4))\n",
        "sns.heatmap(cm, annot=True, fmt=\"d\", cmap=\"Blues\", cbar=False)\n",
        "plt.xlabel(\"Predicted Labels \")\n",
        "plt.ylabel(\"True Labels \")\n",
        "plt.title(\" Train Confusion Matrix\")\n",
        "plt.show()"
      ],
      "metadata": {
        "colab": {
          "base_uri": "https://localhost:8080/",
          "height": 410
        },
        "id": "rf2ZlyhlERK_",
        "outputId": "2aed261c-1425-48bb-dc7a-6deb0cd318f8"
      },
      "execution_count": 52,
      "outputs": [
        {
          "output_type": "display_data",
          "data": {
            "text/plain": [
              "<Figure size 600x400 with 1 Axes>"
            ],
            "image/png": "[encoded data removed]"
          },
          "metadata": {}
        }
      ]
    },
    {
      "cell_type": "code",
      "source": [
        "#Test Confusion Matrix\n",
        "from sklearn.metrics import confusion_matrix\n",
        "\n",
        "# Compute the confusion matrix\n",
        "cm = confusion_matrix(y_test, y_test_pred)\n",
        "\n",
        "# Create a heatmap to visualize the confusion matrix\n",
        "plt.figure(figsize=(6, 4))\n",
        "sns.heatmap(cm, annot=True, fmt=\"d\", cmap=\"Blues\", cbar=False)\n",
        "plt.xlabel(\"Predicted Labels \")\n",
        "plt.ylabel(\"True Labels \")\n",
        "plt.title(\" Test Confusion Matrix\")\n",
        "plt.show()"
      ],
      "metadata": {
        "colab": {
          "base_uri": "https://localhost:8080/",
          "height": 410
        },
        "id": "9MfPMsZYETUI",
        "outputId": "00dbf642-1d18-4d15-f8f6-3f628d3ff099"
      },
      "execution_count": 53,
      "outputs": [
        {
          "output_type": "display_data",
          "data": {
            "text/plain": [
              "<Figure size 600x400 with 1 Axes>"
            ],
            "image/png": "[encoded data removed]"
          },
          "metadata": {}
        }
      ]
    },
    {
      "cell_type": "code",
      "source": [
        "#F1 score of train and test\n",
        "\n",
        "from sklearn.metrics import f1_score\n",
        "f1 = f1_score(y_train,y_train_pred)\n",
        "print(\"F1 Score of train data:\", f1)\n",
        "\n",
        "f2 = f1_score(y_test,y_test_pred)\n",
        "print(\"F1 Score of test data:\", f2)"
      ],
      "metadata": {
        "colab": {
          "base_uri": "https://localhost:8080/"
        },
        "id": "ngtBTM0IEWRD",
        "outputId": "49a5a5e4-011d-43c0-e1a3-0efba6dac898"
      },
      "execution_count": 54,
      "outputs": [
        {
          "output_type": "stream",
          "name": "stdout",
          "text": [
            "F1 Score of train data: 0.8248451479697179\n",
            "F1 Score of test data: 0.8532532532532533\n"
          ]
        }
      ]
    },
    {
      "cell_type": "code",
      "source": [
        "from sklearn.metrics import classification_report\n",
        "report = classification_report(y_test, y_test_pred)"
      ],
      "metadata": {
        "id": "Jk255yCDEeJV"
      },
      "execution_count": 56,
      "outputs": []
    },
    {
      "cell_type": "code",
      "source": [
        "print(report)"
      ],
      "metadata": {
        "colab": {
          "base_uri": "https://localhost:8080/"
        },
        "id": "HLCG9Wt3Eh1q",
        "outputId": "76a9d00e-0b1f-4d76-dbc4-264d795ca876"
      },
      "execution_count": 57,
      "outputs": [
        {
          "output_type": "stream",
          "name": "stdout",
          "text": [
            "              precision    recall  f1-score   support\n",
            "\n",
            "           0       0.72      0.71      0.72      1293\n",
            "           1       0.85      0.86      0.85      2491\n",
            "\n",
            "    accuracy                           0.81      3784\n",
            "   macro avg       0.78      0.78      0.78      3784\n",
            "weighted avg       0.81      0.81      0.81      3784\n",
            "\n"
          ]
        }
      ]
    },
    {
      "cell_type": "code",
      "source": [
        "from sklearn.metrics import accuracy_score,recall_score,precision_score,f1_score\n"
      ],
      "metadata": {
        "id": "xURUmN8HE5j5"
      },
      "execution_count": 59,
      "outputs": []
    },
    {
      "cell_type": "code",
      "source": [
        "#performance metrics for training using logistic regression\n",
        "\n",
        "print('Accuracy Score : ' + str(accuracy_score(y_train,y_train_pred)))\n",
        "print('Precision Score : ' + str(precision_score(y_train,y_train_pred)))\n",
        "print('Recall Score : ' + str(recall_score(y_train,y_train_pred)))\n",
        "print('F1 Score : ' + str(f1_score(y_train,y_train_pred)))"
      ],
      "metadata": {
        "colab": {
          "base_uri": "https://localhost:8080/"
        },
        "id": "ZjADoDOnFQST",
        "outputId": "d393890b-e118-4778-d9be-61919fdbc36d"
      },
      "execution_count": 68,
      "outputs": [
        {
          "output_type": "stream",
          "name": "stdout",
          "text": [
            "Accuracy Score : 0.7693701857725419\n",
            "Precision Score : 0.812267028126059\n",
            "Recall Score : 0.8378189444250262\n",
            "F1 Score : 0.8248451479697179\n"
          ]
        }
      ]
    },
    {
      "cell_type": "code",
      "source": [
        "print('Accuracy Score : ' + str(accuracy_score(y_test,y_test_pred)))\n",
        "print('Precision Score : ' + str(precision_score(y_test,y_test_pred)))\n",
        "print('Recall Score : ' + str(recall_score(y_test,y_test_pred)))\n",
        "print('F1 Score : ' + str(f1_score(y_test,y_test_pred)))"
      ],
      "metadata": {
        "colab": {
          "base_uri": "https://localhost:8080/"
        },
        "id": "PkK0-qe1Elbr",
        "outputId": "f7599b3e-ad38-49f4-96f7-399554c13625"
      },
      "execution_count": 60,
      "outputs": [
        {
          "output_type": "stream",
          "name": "stdout",
          "text": [
            "Accuracy Score : 0.8062896405919662\n",
            "Precision Score : 0.8510383386581469\n",
            "Recall Score : 0.8554797270172622\n",
            "F1 Score : 0.8532532532532533\n"
          ]
        }
      ]
    },
    {
      "cell_type": "code",
      "source": [
        "#Random Forest\n",
        "\n",
        "from sklearn.ensemble import RandomForestClassifier\n",
        "\n",
        "# Create a Random Forest classifier\n",
        "rf_model = RandomForestClassifier(n_estimators=100, random_state=21)\n",
        "\n",
        "# Train the model on your training data\n",
        "rf_model.fit(X_train_preprocessed,y_train)\n",
        "\n",
        "# Make predictions on your testing data\n",
        "y_test_pred_rf = rf_model.predict(X_test_preprocessed)"
      ],
      "metadata": {
        "id": "wadOcXJ9FLtk"
      },
      "execution_count": 61,
      "outputs": []
    },
    {
      "cell_type": "code",
      "source": [
        "# Make predictions on training data\n",
        "y_train_pred_rf = rf_model.predict(X_train_preprocessed)\n",
        "y_train_pred_rf\n",
        "y_test_pred_rf"
      ],
      "metadata": {
        "colab": {
          "base_uri": "https://localhost:8080/"
        },
        "id": "xgPGNmXGFZIF",
        "outputId": "2b1a0beb-a7ec-4d0b-d1ec-021bc45500f7"
      },
      "execution_count": 62,
      "outputs": [
        {
          "output_type": "execute_result",
          "data": {
            "text/plain": [
              "array([0, 1, 1, ..., 0, 1, 1])"
            ]
          },
          "metadata": {},
          "execution_count": 62
        }
      ]
    },
    {
      "cell_type": "code",
      "source": [
        "#F1 score of train and test\n",
        "from sklearn.metrics import f1_score\n",
        "f1 = f1_score(y_train,y_train_pred_rf)\n",
        "print(\"F1 Score of train data:\", f1)\n",
        "\n",
        "f2 = f1_score(y_test,y_test_pred_rf)\n",
        "print(\"F1 Score of test data:\", f2)"
      ],
      "metadata": {
        "colab": {
          "base_uri": "https://localhost:8080/"
        },
        "id": "Jav45F0iFdYS",
        "outputId": "c535b057-e9f9-4dd1-a467-86ea764fe6c7"
      },
      "execution_count": 63,
      "outputs": [
        {
          "output_type": "stream",
          "name": "stdout",
          "text": [
            "F1 Score of train data: 1.0\n",
            "F1 Score of test data: 0.9722222222222223\n"
          ]
        }
      ]
    },
    {
      "cell_type": "code",
      "source": [
        "#performance metrics for training using random forest\n",
        "\n",
        "print('Accuracy Score : ' + str(accuracy_score(y_train,y_train_pred_rf)))\n",
        "print('Precision Score : ' + str(precision_score(y_train,y_train_pred_rf)))\n",
        "print('Recall Score : ' + str(recall_score(y_train,y_train_pred_rf)))\n",
        "print('F1 Score : ' + str(f1_score(y_train,y_train_pred_rf)))"
      ],
      "metadata": {
        "colab": {
          "base_uri": "https://localhost:8080/"
        },
        "id": "KzrT-Oi6FzF3",
        "outputId": "e14edbb2-12b5-4f28-b23a-e6b6eb79e782"
      },
      "execution_count": 67,
      "outputs": [
        {
          "output_type": "stream",
          "name": "stdout",
          "text": [
            "Accuracy Score : 1.0\n",
            "Precision Score : 1.0\n",
            "Recall Score : 1.0\n",
            "F1 Score : 1.0\n"
          ]
        }
      ]
    },
    {
      "cell_type": "code",
      "source": [
        "#performance metrics for testing using random forest\n",
        "print('Accuracy Score : ' + str(accuracy_score(y_test,y_test_pred_rf)))\n",
        "print('Precision Score : ' + str(precision_score(y_test,y_test_pred_rf)))\n",
        "print('Recall Score : ' + str(recall_score(y_test,y_test_pred_rf)))\n",
        "print('F1 Score : ' + str(f1_score(y_test,y_test_pred_rf)))"
      ],
      "metadata": {
        "colab": {
          "base_uri": "https://localhost:8080/"
        },
        "id": "rHOCvWCwFgxG",
        "outputId": "c6d4e470-7978-42be-829f-1cd7f64a23c0"
      },
      "execution_count": 64,
      "outputs": [
        {
          "output_type": "stream",
          "name": "stdout",
          "text": [
            "Accuracy Score : 0.9624735729386892\n",
            "Precision Score : 0.9481114078595956\n",
            "Recall Score : 0.997591328783621\n",
            "F1 Score : 0.9722222222222223\n"
          ]
        }
      ]
    },
    {
      "cell_type": "code",
      "source": [
        "report = classification_report(y_test, y_test_pred_rf)"
      ],
      "metadata": {
        "id": "-9_kMi02FxbC"
      },
      "execution_count": 69,
      "outputs": []
    },
    {
      "cell_type": "code",
      "source": [
        "print(report)"
      ],
      "metadata": {
        "colab": {
          "base_uri": "https://localhost:8080/"
        },
        "id": "PggfuDGAGLUi",
        "outputId": "ef497116-ab67-47a9-ede9-feae161b5990"
      },
      "execution_count": 70,
      "outputs": [
        {
          "output_type": "stream",
          "name": "stdout",
          "text": [
            "              precision    recall  f1-score   support\n",
            "\n",
            "           0       0.99      0.89      0.94      1293\n",
            "           1       0.95      1.00      0.97      2491\n",
            "\n",
            "    accuracy                           0.96      3784\n",
            "   macro avg       0.97      0.95      0.96      3784\n",
            "weighted avg       0.96      0.96      0.96      3784\n",
            "\n"
          ]
        }
      ]
    },
    {
      "cell_type": "code",
      "source": [],
      "metadata": {
        "id": "0NNKpTD9GNse"
      },
      "execution_count": null,
      "outputs": []
    }
  ]
}